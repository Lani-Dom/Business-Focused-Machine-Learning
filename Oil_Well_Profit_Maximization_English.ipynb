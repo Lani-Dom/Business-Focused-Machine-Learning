{
 "cells": [
  {
   "cell_type": "markdown",
   "metadata": {},
   "source": [
    "# Oil Well Profit Maximization"
   ]
  },
  {
   "cell_type": "markdown",
   "metadata": {},
   "source": [
    "-----"
   ]
  },
  {
   "cell_type": "markdown",
   "metadata": {},
   "source": [
    "## Overview"
   ]
  },
  {
   "cell_type": "markdown",
   "metadata": {},
   "source": [
    "### Description"
   ]
  },
  {
   "cell_type": "markdown",
   "metadata": {},
   "source": [
    "<div style=\"color: #196CC4;\">\n",
    "This project involves an exhaustive evaluation of geological data from three regions, using linear regression models to predict the volume of reserves in potential wells. Finally, we will choose the region with the highest average benefit among the regions considered to open new wells, with a loss risk of less than 2.5%.\n",
    "</div>"
   ]
  },
  {
   "cell_type": "markdown",
   "metadata": {},
   "source": [
    "### Objective"
   ]
  },
  {
   "cell_type": "markdown",
   "metadata": {},
   "source": [
    "<div style=\"color: #196CC4;\">\n",
    "Use linear regression models to identify the most profitable region with a loss risk below 2.5%, to open 200 new oil wells, maximizing the total profit within a budget of 100 million dollars; all this through the evaluation of geological data from three regions and the selection of the best points using criteria for predicting the volume of reserves and risk analysis using bootstrapping.\n",
    "</div>"
   ]
  },
  {
   "cell_type": "markdown",
   "metadata": {},
   "source": [
    "### Resources"
   ]
  },
  {
   "cell_type": "markdown",
   "metadata": {},
   "source": [
    "<div style=\"color: #196CC4;\">\n",
    "<b>The geological exploration data for the three regions is stored in files:</b><br>\n",
    "▶ Dataset geo_data_0.csv<br>\n",
    "▶ Dataset geo_data_1.csv<br>\n",
    "▶ Dataset geo_data_2.csv<br>\n",
    "▶ id — unique identifier of the oil well<br>\n",
    "▶ f0, f1, f2 — three features of the points (their specific meaning is not important, but the features themselves are significant)<br>\n",
    "▶ product — volume of reserves in the oil well (thousands of barrels).\n",
    "</div>"
   ]
  },
  {
   "cell_type": "markdown",
   "metadata": {},
   "source": [
    "### Additional Conditions"
   ]
  },
  {
   "cell_type": "markdown",
   "metadata": {},
   "source": [
    "<div style=\"color: #196CC4;\">\n",
    "▶ Only linear regression should be used for model training.<br>\n",
    "▶ When exploring the region, a study of 500 points is conducted with the selection of the best 200 points for profit calculation.<br>\n",
    "▶ The budget for developing 200 oil wells is 100 million dollars.<br>\n",
    "▶ A barrel of raw materials generates 4.5 USD in revenue. The revenue of one unit of product is 4500 dollars (the volume of reserves is expressed in thousands of barrels).<br>\n",
    "▶ After the risk assessment, only regions with a loss risk below 2.5% should be kept. From those that meet the criteria, the region with the highest average profit should be selected.<br>\n",
    "▶ The data is synthetic: contract details and well characteristics are not published.\n",
    "</div>"
   ]
  },
  {
   "cell_type": "markdown",
   "metadata": {},
   "source": [
    "### Methodology"
   ]
  },
  {
   "cell_type": "markdown",
   "metadata": {},
   "source": [
    "<div style=\"color: #196CC4;\">\n",
    "<b>General Procedure for Addressing this Project:</b><br>\n",
    "\n",
    "▶ Understand the structure and content of the Dataset<br>\n",
    "▶ Segmenting the data will be necessary to train and validate the model.<br>\n",
    "▶ Before calculating potential profits, determine the necessary values to avoid losses, such as the minimum reserve volume.<br>\n",
    "▶ Select and model the predictions of the top 200 wells in each region, thus estimating potential profits.<br>\n",
    "▶ Use bootstrapping to estimate profit distributions and calculate risk and profit metrics for each region.<br>\n",
    "▶ Analyze results and generate robust conclusions about the best region for oil well development, supported by detailed data.\n",
    "</div>\n",
    "\n",
    "<div style=\"color: #196CC4;\"><br>\n",
    "<b>Detailed Procedure:</b>\n",
    "<ol>\n",
    "<li>Data Initialization and Exploratory Analysis\n",
    "<ul>\n",
    "<li>Import the libraries, modules, and the 3 datasets: geo_data_0.csv, geo_data_1.csv, and geo_data_2.csv.</li>\n",
    "<li>Perform exploratory data analysis on each dataset, identifying correlations between numerical and categorical variables, missing values, duplicates, and syntax anomalies.</li>\n",
    "<li>Calculate descriptive statistics for each dataset.</li>\n",
    "<li>Clean the data by removing the \"id\" column, which is not necessary for the analysis.</li>\n",
    "</ul>\n",
    "</li>\n",
    "\n",
    "<li>Model Training\n",
    "<ul>\n",
    "<li>Divide the data into training and validation sets in a 3:1 ratio.</li>\n",
    "<li>Use linear regression to predict the value of the target variable (price).</li>\n",
    "<li>Evaluate model performance using the root mean squared error (RMSE).</li>\n",
    "<li>Create a function to automate the process of feature extraction, model training, and evaluation.</li>\n",
    "<li>Apply the function to each of the oil well datasets.</li>\n",
    "<li>Present the results and identify the most relevant findings, such as average reserve volume, RMSE, and the region with the best performance.</li>\n",
    "</ul>\n",
    "</li>\n",
    "\n",
    "<li>Data Preparation for Profitability Analysis\n",
    "<ul>\n",
    "<li>Calculate the average reserve volume for each region in the validation set.</li>\n",
    "<li>Compare the average volume to the minimum required volume to determine the economic viability of each region.</li>\n",
    "</ul>\n",
    "</li>\n",
    "\n",
    "<li>Potential Profit Calculation\n",
    "<ul>\n",
    "<li>Calculate the potential profits that could be obtained by developing oil wells in each region.</li>\n",
    "<li>Define a function to calculate profits, considering the model's predictions and the price per barrel.</li>\n",
    "<li>Sort the predictions in descending order and select the top 200 wells.</li>\n",
    "<li>Calculate total revenue by multiplying the total reserve volume by the price per barrel.</li>\n",
    "<li>Calculate net profits by subtracting the initial investment.</li>\n",
    "</ul>\n",
    "</li>\n",
    "\n",
    "<li>Risk and Return Analysis\n",
    "<ul>\n",
    "<li>Use the bootstrapping method to estimate the profit distribution for each region.</li>\n",
    "<li>Calculate the average profit, 95% confidence interval, and risk of loss for each distribution.</li>\n",
    "</ul>\n",
    "</li>\n",
    "\n",
    "<li>Conclusions\n",
    "<ul>\n",
    "<li>Present a summary of the key results obtained for each region.</li>\n",
    "<li>Identify the most promising region for the development of new oil wells, considering risk and return factors.</li>\n",
    "</ul>\n",
    "</li>\n",
    "</ol>\n",
    "\n",
    "</div>"
   ]
  },
  {
   "cell_type": "markdown",
   "metadata": {},
   "source": [
    "-----"
   ]
  },
  {
   "cell_type": "markdown",
   "metadata": {},
   "source": [
    "## General Information"
   ]
  },
  {
   "cell_type": "markdown",
   "metadata": {},
   "source": [
    "### Inicialization"
   ]
  },
  {
   "cell_type": "markdown",
   "metadata": {},
   "source": [
    "<div style=\"color: #196CC4;\">\n",
    "▶ Import of libraries and data loading\n",
    "</div>\n"
   ]
  },
  {
   "cell_type": "code",
   "execution_count": 1,
   "metadata": {},
   "outputs": [],
   "source": [
    "# Data treatment\n",
    "import pandas as pd\n",
    "import numpy as np\n",
    "\n",
    "# Models\n",
    "from sklearn.linear_model import LinearRegression\n",
    "\n",
    "# Para separar cualquier conjunto de datos en dos: entrenamiento y prueba\n",
    "from sklearn.model_selection import train_test_split\n",
    "\n",
    "# mean squared error between predictions and true values\n",
    "from sklearn.metrics import mean_squared_error\n",
    "\n",
    "# confidence_interval\n",
    "from scipy import stats as st"
   ]
  },
  {
   "cell_type": "code",
   "execution_count": 2,
   "metadata": {},
   "outputs": [],
   "source": [
    "# Import data\n",
    "geo_0 = pd.read_csv('datasets/geo_data_0.csv')\n",
    "geo_1 = pd.read_csv('datasets/geo_data_1.csv')\n",
    "geo_2 = pd.read_csv('datasets/geo_data_2.csv')"
   ]
  },
  {
   "cell_type": "markdown",
   "metadata": {},
   "source": [
    "### Datasets general overview\n"
   ]
  },
  {
   "cell_type": "markdown",
   "metadata": {},
   "source": [
    "<div style=\"color: #196CC4;\">\n",
    "▶ Dataframes general properties\n",
    "</div>"
   ]
  },
  {
   "cell_type": "code",
   "execution_count": 3,
   "metadata": {},
   "outputs": [
    {
     "name": "stdout",
     "output_type": "stream",
     "text": [
      "<class 'pandas.core.frame.DataFrame'>\n",
      "RangeIndex: 100000 entries, 0 to 99999\n",
      "Data columns (total 5 columns):\n",
      " #   Column   Non-Null Count   Dtype  \n",
      "---  ------   --------------   -----  \n",
      " 0   id       100000 non-null  object \n",
      " 1   f0       100000 non-null  float64\n",
      " 2   f1       100000 non-null  float64\n",
      " 3   f2       100000 non-null  float64\n",
      " 4   product  100000 non-null  float64\n",
      "dtypes: float64(4), object(1)\n",
      "memory usage: 3.8+ MB\n"
     ]
    }
   ],
   "source": [
    "# General Dataframe 1 properties\n",
    "geo_0.info()"
   ]
  },
  {
   "cell_type": "code",
   "execution_count": 4,
   "metadata": {},
   "outputs": [
    {
     "name": "stdout",
     "output_type": "stream",
     "text": [
      "<class 'pandas.core.frame.DataFrame'>\n",
      "RangeIndex: 100000 entries, 0 to 99999\n",
      "Data columns (total 5 columns):\n",
      " #   Column   Non-Null Count   Dtype  \n",
      "---  ------   --------------   -----  \n",
      " 0   id       100000 non-null  object \n",
      " 1   f0       100000 non-null  float64\n",
      " 2   f1       100000 non-null  float64\n",
      " 3   f2       100000 non-null  float64\n",
      " 4   product  100000 non-null  float64\n",
      "dtypes: float64(4), object(1)\n",
      "memory usage: 3.8+ MB\n"
     ]
    }
   ],
   "source": [
    "# General Dataframe 2 properties\n",
    "geo_1.info()"
   ]
  },
  {
   "cell_type": "code",
   "execution_count": 5,
   "metadata": {},
   "outputs": [
    {
     "name": "stdout",
     "output_type": "stream",
     "text": [
      "<class 'pandas.core.frame.DataFrame'>\n",
      "RangeIndex: 100000 entries, 0 to 99999\n",
      "Data columns (total 5 columns):\n",
      " #   Column   Non-Null Count   Dtype  \n",
      "---  ------   --------------   -----  \n",
      " 0   id       100000 non-null  object \n",
      " 1   f0       100000 non-null  float64\n",
      " 2   f1       100000 non-null  float64\n",
      " 3   f2       100000 non-null  float64\n",
      " 4   product  100000 non-null  float64\n",
      "dtypes: float64(4), object(1)\n",
      "memory usage: 3.8+ MB\n"
     ]
    }
   ],
   "source": [
    "# General Dataframe 3 properties\n",
    "geo_2.info()"
   ]
  },
  {
   "cell_type": "markdown",
   "metadata": {},
   "source": [
    "<div style=\"color: #196CC4;\">\n",
    "▶ Dataframe general overview\n",
    "</div>"
   ]
  },
  {
   "cell_type": "code",
   "execution_count": 6,
   "metadata": {},
   "outputs": [
    {
     "data": {
      "text/html": [
       "<div>\n",
       "<style scoped>\n",
       "    .dataframe tbody tr th:only-of-type {\n",
       "        vertical-align: middle;\n",
       "    }\n",
       "\n",
       "    .dataframe tbody tr th {\n",
       "        vertical-align: top;\n",
       "    }\n",
       "\n",
       "    .dataframe thead th {\n",
       "        text-align: right;\n",
       "    }\n",
       "</style>\n",
       "<table border=\"1\" class=\"dataframe\">\n",
       "  <thead>\n",
       "    <tr style=\"text-align: right;\">\n",
       "      <th></th>\n",
       "      <th>id</th>\n",
       "      <th>f0</th>\n",
       "      <th>f1</th>\n",
       "      <th>f2</th>\n",
       "      <th>product</th>\n",
       "    </tr>\n",
       "  </thead>\n",
       "  <tbody>\n",
       "    <tr>\n",
       "      <th>0</th>\n",
       "      <td>txEyH</td>\n",
       "      <td>0.705745</td>\n",
       "      <td>-0.497823</td>\n",
       "      <td>1.221170</td>\n",
       "      <td>105.280062</td>\n",
       "    </tr>\n",
       "    <tr>\n",
       "      <th>1</th>\n",
       "      <td>2acmU</td>\n",
       "      <td>1.334711</td>\n",
       "      <td>-0.340164</td>\n",
       "      <td>4.365080</td>\n",
       "      <td>73.037750</td>\n",
       "    </tr>\n",
       "    <tr>\n",
       "      <th>2</th>\n",
       "      <td>409Wp</td>\n",
       "      <td>1.022732</td>\n",
       "      <td>0.151990</td>\n",
       "      <td>1.419926</td>\n",
       "      <td>85.265647</td>\n",
       "    </tr>\n",
       "  </tbody>\n",
       "</table>\n",
       "</div>"
      ],
      "text/plain": [
       "      id        f0        f1        f2     product\n",
       "0  txEyH  0.705745 -0.497823  1.221170  105.280062\n",
       "1  2acmU  1.334711 -0.340164  4.365080   73.037750\n",
       "2  409Wp  1.022732  0.151990  1.419926   85.265647"
      ]
     },
     "metadata": {},
     "output_type": "display_data"
    },
    {
     "data": {
      "text/html": [
       "<div>\n",
       "<style scoped>\n",
       "    .dataframe tbody tr th:only-of-type {\n",
       "        vertical-align: middle;\n",
       "    }\n",
       "\n",
       "    .dataframe tbody tr th {\n",
       "        vertical-align: top;\n",
       "    }\n",
       "\n",
       "    .dataframe thead th {\n",
       "        text-align: right;\n",
       "    }\n",
       "</style>\n",
       "<table border=\"1\" class=\"dataframe\">\n",
       "  <thead>\n",
       "    <tr style=\"text-align: right;\">\n",
       "      <th></th>\n",
       "      <th>id</th>\n",
       "      <th>f0</th>\n",
       "      <th>f1</th>\n",
       "      <th>f2</th>\n",
       "      <th>product</th>\n",
       "    </tr>\n",
       "  </thead>\n",
       "  <tbody>\n",
       "    <tr>\n",
       "      <th>0</th>\n",
       "      <td>kBEdx</td>\n",
       "      <td>-15.001348</td>\n",
       "      <td>-8.276000</td>\n",
       "      <td>-0.005876</td>\n",
       "      <td>3.179103</td>\n",
       "    </tr>\n",
       "    <tr>\n",
       "      <th>1</th>\n",
       "      <td>62mP7</td>\n",
       "      <td>14.272088</td>\n",
       "      <td>-3.475083</td>\n",
       "      <td>0.999183</td>\n",
       "      <td>26.953261</td>\n",
       "    </tr>\n",
       "    <tr>\n",
       "      <th>2</th>\n",
       "      <td>vyE1P</td>\n",
       "      <td>6.263187</td>\n",
       "      <td>-5.948386</td>\n",
       "      <td>5.001160</td>\n",
       "      <td>134.766305</td>\n",
       "    </tr>\n",
       "  </tbody>\n",
       "</table>\n",
       "</div>"
      ],
      "text/plain": [
       "      id         f0        f1        f2     product\n",
       "0  kBEdx -15.001348 -8.276000 -0.005876    3.179103\n",
       "1  62mP7  14.272088 -3.475083  0.999183   26.953261\n",
       "2  vyE1P   6.263187 -5.948386  5.001160  134.766305"
      ]
     },
     "metadata": {},
     "output_type": "display_data"
    },
    {
     "data": {
      "text/html": [
       "<div>\n",
       "<style scoped>\n",
       "    .dataframe tbody tr th:only-of-type {\n",
       "        vertical-align: middle;\n",
       "    }\n",
       "\n",
       "    .dataframe tbody tr th {\n",
       "        vertical-align: top;\n",
       "    }\n",
       "\n",
       "    .dataframe thead th {\n",
       "        text-align: right;\n",
       "    }\n",
       "</style>\n",
       "<table border=\"1\" class=\"dataframe\">\n",
       "  <thead>\n",
       "    <tr style=\"text-align: right;\">\n",
       "      <th></th>\n",
       "      <th>id</th>\n",
       "      <th>f0</th>\n",
       "      <th>f1</th>\n",
       "      <th>f2</th>\n",
       "      <th>product</th>\n",
       "    </tr>\n",
       "  </thead>\n",
       "  <tbody>\n",
       "    <tr>\n",
       "      <th>0</th>\n",
       "      <td>fwXo0</td>\n",
       "      <td>-1.146987</td>\n",
       "      <td>0.963328</td>\n",
       "      <td>-0.828965</td>\n",
       "      <td>27.758673</td>\n",
       "    </tr>\n",
       "    <tr>\n",
       "      <th>1</th>\n",
       "      <td>WJtFt</td>\n",
       "      <td>0.262778</td>\n",
       "      <td>0.269839</td>\n",
       "      <td>-2.530187</td>\n",
       "      <td>56.069697</td>\n",
       "    </tr>\n",
       "    <tr>\n",
       "      <th>2</th>\n",
       "      <td>ovLUW</td>\n",
       "      <td>0.194587</td>\n",
       "      <td>0.289035</td>\n",
       "      <td>-5.586433</td>\n",
       "      <td>62.871910</td>\n",
       "    </tr>\n",
       "  </tbody>\n",
       "</table>\n",
       "</div>"
      ],
      "text/plain": [
       "      id        f0        f1        f2    product\n",
       "0  fwXo0 -1.146987  0.963328 -0.828965  27.758673\n",
       "1  WJtFt  0.262778  0.269839 -2.530187  56.069697\n",
       "2  ovLUW  0.194587  0.289035 -5.586433  62.871910"
      ]
     },
     "metadata": {},
     "output_type": "display_data"
    }
   ],
   "source": [
    "# General data overview\n",
    "display(geo_0.head(3))\n",
    "display(geo_1.head(3))\n",
    "display(geo_2.head(3))"
   ]
  },
  {
   "cell_type": "markdown",
   "metadata": {},
   "source": [
    "<div style=\"color: #196CC4;\">\n",
    "▶ Verificación de valores duplicados.\n",
    "</div>"
   ]
  },
  {
   "cell_type": "code",
   "execution_count": 7,
   "metadata": {},
   "outputs": [
    {
     "name": "stdout",
     "output_type": "stream",
     "text": [
      "Total of duplicate values in geo_0: 0\n",
      "Total of duplicate values in geo_1: 0\n",
      "Total of duplicate values in geo_2: 0\n"
     ]
    }
   ],
   "source": [
    "# Duplicated values\n",
    "geo_0_duplicates = geo_0.duplicated()\n",
    "geo_1_duplicates = geo_1.duplicated()\n",
    "geo_2_duplicates = geo_2.duplicated()\n",
    "\n",
    "# Sum of duplicated values\n",
    "total_geo_0_duplicates = geo_0_duplicates.sum()\n",
    "total_geo_1_duplicates = geo_1_duplicates.sum()\n",
    "total_geo_2_duplicates = geo_2_duplicates.sum()\n",
    "\n",
    "# Duplicated rows\n",
    "geo_0_duplicates_rows = geo_0[geo_0_duplicates]\n",
    "geo_1_duplicates_rows = geo_1[geo_1_duplicates]\n",
    "geo_2_duplicates_rows = geo_2[geo_2_duplicates]\n",
    "\n",
    "# Display data\n",
    "print(\"Total of duplicate values in geo_0:\", total_geo_0_duplicates)\n",
    "print(\"Total of duplicate values in geo_1:\", total_geo_1_duplicates)\n",
    "print(\"Total of duplicate values in geo_2:\", total_geo_2_duplicates)"
   ]
  },
  {
   "cell_type": "markdown",
   "metadata": {},
   "source": [
    "<div style=\"color: #196CC4;\">\n",
    "▶ Descriptive statistics for numerical data.\n",
    "</div>"
   ]
  },
  {
   "cell_type": "code",
   "execution_count": 8,
   "metadata": {},
   "outputs": [
    {
     "data": {
      "text/html": [
       "<div>\n",
       "<style scoped>\n",
       "    .dataframe tbody tr th:only-of-type {\n",
       "        vertical-align: middle;\n",
       "    }\n",
       "\n",
       "    .dataframe tbody tr th {\n",
       "        vertical-align: top;\n",
       "    }\n",
       "\n",
       "    .dataframe thead th {\n",
       "        text-align: right;\n",
       "    }\n",
       "</style>\n",
       "<table border=\"1\" class=\"dataframe\">\n",
       "  <thead>\n",
       "    <tr style=\"text-align: right;\">\n",
       "      <th></th>\n",
       "      <th>f0</th>\n",
       "      <th>f1</th>\n",
       "      <th>f2</th>\n",
       "      <th>product</th>\n",
       "    </tr>\n",
       "  </thead>\n",
       "  <tbody>\n",
       "    <tr>\n",
       "      <th>count</th>\n",
       "      <td>100000.000000</td>\n",
       "      <td>100000.000000</td>\n",
       "      <td>100000.000000</td>\n",
       "      <td>100000.000000</td>\n",
       "    </tr>\n",
       "    <tr>\n",
       "      <th>mean</th>\n",
       "      <td>0.500419</td>\n",
       "      <td>0.250143</td>\n",
       "      <td>2.502647</td>\n",
       "      <td>92.500000</td>\n",
       "    </tr>\n",
       "    <tr>\n",
       "      <th>std</th>\n",
       "      <td>0.871832</td>\n",
       "      <td>0.504433</td>\n",
       "      <td>3.248248</td>\n",
       "      <td>44.288691</td>\n",
       "    </tr>\n",
       "    <tr>\n",
       "      <th>min</th>\n",
       "      <td>-1.408605</td>\n",
       "      <td>-0.848218</td>\n",
       "      <td>-12.088328</td>\n",
       "      <td>0.000000</td>\n",
       "    </tr>\n",
       "    <tr>\n",
       "      <th>25%</th>\n",
       "      <td>-0.072580</td>\n",
       "      <td>-0.200881</td>\n",
       "      <td>0.287748</td>\n",
       "      <td>56.497507</td>\n",
       "    </tr>\n",
       "    <tr>\n",
       "      <th>50%</th>\n",
       "      <td>0.502360</td>\n",
       "      <td>0.250252</td>\n",
       "      <td>2.515969</td>\n",
       "      <td>91.849972</td>\n",
       "    </tr>\n",
       "    <tr>\n",
       "      <th>75%</th>\n",
       "      <td>1.073581</td>\n",
       "      <td>0.700646</td>\n",
       "      <td>4.715088</td>\n",
       "      <td>128.564089</td>\n",
       "    </tr>\n",
       "    <tr>\n",
       "      <th>max</th>\n",
       "      <td>2.362331</td>\n",
       "      <td>1.343769</td>\n",
       "      <td>16.003790</td>\n",
       "      <td>185.364347</td>\n",
       "    </tr>\n",
       "  </tbody>\n",
       "</table>\n",
       "</div>"
      ],
      "text/plain": [
       "                  f0             f1             f2        product\n",
       "count  100000.000000  100000.000000  100000.000000  100000.000000\n",
       "mean        0.500419       0.250143       2.502647      92.500000\n",
       "std         0.871832       0.504433       3.248248      44.288691\n",
       "min        -1.408605      -0.848218     -12.088328       0.000000\n",
       "25%        -0.072580      -0.200881       0.287748      56.497507\n",
       "50%         0.502360       0.250252       2.515969      91.849972\n",
       "75%         1.073581       0.700646       4.715088     128.564089\n",
       "max         2.362331       1.343769      16.003790     185.364347"
      ]
     },
     "execution_count": 8,
     "metadata": {},
     "output_type": "execute_result"
    }
   ],
   "source": [
    "# Descriptive statistics\n",
    "geo_0.describe()"
   ]
  },
  {
   "cell_type": "code",
   "execution_count": 9,
   "metadata": {},
   "outputs": [
    {
     "data": {
      "text/html": [
       "<div>\n",
       "<style scoped>\n",
       "    .dataframe tbody tr th:only-of-type {\n",
       "        vertical-align: middle;\n",
       "    }\n",
       "\n",
       "    .dataframe tbody tr th {\n",
       "        vertical-align: top;\n",
       "    }\n",
       "\n",
       "    .dataframe thead th {\n",
       "        text-align: right;\n",
       "    }\n",
       "</style>\n",
       "<table border=\"1\" class=\"dataframe\">\n",
       "  <thead>\n",
       "    <tr style=\"text-align: right;\">\n",
       "      <th></th>\n",
       "      <th>f0</th>\n",
       "      <th>f1</th>\n",
       "      <th>f2</th>\n",
       "      <th>product</th>\n",
       "    </tr>\n",
       "  </thead>\n",
       "  <tbody>\n",
       "    <tr>\n",
       "      <th>count</th>\n",
       "      <td>100000.000000</td>\n",
       "      <td>100000.000000</td>\n",
       "      <td>100000.000000</td>\n",
       "      <td>100000.000000</td>\n",
       "    </tr>\n",
       "    <tr>\n",
       "      <th>mean</th>\n",
       "      <td>1.141296</td>\n",
       "      <td>-4.796579</td>\n",
       "      <td>2.494541</td>\n",
       "      <td>68.825000</td>\n",
       "    </tr>\n",
       "    <tr>\n",
       "      <th>std</th>\n",
       "      <td>8.965932</td>\n",
       "      <td>5.119872</td>\n",
       "      <td>1.703572</td>\n",
       "      <td>45.944423</td>\n",
       "    </tr>\n",
       "    <tr>\n",
       "      <th>min</th>\n",
       "      <td>-31.609576</td>\n",
       "      <td>-26.358598</td>\n",
       "      <td>-0.018144</td>\n",
       "      <td>0.000000</td>\n",
       "    </tr>\n",
       "    <tr>\n",
       "      <th>25%</th>\n",
       "      <td>-6.298551</td>\n",
       "      <td>-8.267985</td>\n",
       "      <td>1.000021</td>\n",
       "      <td>26.953261</td>\n",
       "    </tr>\n",
       "    <tr>\n",
       "      <th>50%</th>\n",
       "      <td>1.153055</td>\n",
       "      <td>-4.813172</td>\n",
       "      <td>2.011479</td>\n",
       "      <td>57.085625</td>\n",
       "    </tr>\n",
       "    <tr>\n",
       "      <th>75%</th>\n",
       "      <td>8.621015</td>\n",
       "      <td>-1.332816</td>\n",
       "      <td>3.999904</td>\n",
       "      <td>107.813044</td>\n",
       "    </tr>\n",
       "    <tr>\n",
       "      <th>max</th>\n",
       "      <td>29.421755</td>\n",
       "      <td>18.734063</td>\n",
       "      <td>5.019721</td>\n",
       "      <td>137.945408</td>\n",
       "    </tr>\n",
       "  </tbody>\n",
       "</table>\n",
       "</div>"
      ],
      "text/plain": [
       "                  f0             f1             f2        product\n",
       "count  100000.000000  100000.000000  100000.000000  100000.000000\n",
       "mean        1.141296      -4.796579       2.494541      68.825000\n",
       "std         8.965932       5.119872       1.703572      45.944423\n",
       "min       -31.609576     -26.358598      -0.018144       0.000000\n",
       "25%        -6.298551      -8.267985       1.000021      26.953261\n",
       "50%         1.153055      -4.813172       2.011479      57.085625\n",
       "75%         8.621015      -1.332816       3.999904     107.813044\n",
       "max        29.421755      18.734063       5.019721     137.945408"
      ]
     },
     "execution_count": 9,
     "metadata": {},
     "output_type": "execute_result"
    }
   ],
   "source": [
    "# Descriptive statistics\n",
    "geo_1.describe()"
   ]
  },
  {
   "cell_type": "code",
   "execution_count": 10,
   "metadata": {},
   "outputs": [
    {
     "data": {
      "text/html": [
       "<div>\n",
       "<style scoped>\n",
       "    .dataframe tbody tr th:only-of-type {\n",
       "        vertical-align: middle;\n",
       "    }\n",
       "\n",
       "    .dataframe tbody tr th {\n",
       "        vertical-align: top;\n",
       "    }\n",
       "\n",
       "    .dataframe thead th {\n",
       "        text-align: right;\n",
       "    }\n",
       "</style>\n",
       "<table border=\"1\" class=\"dataframe\">\n",
       "  <thead>\n",
       "    <tr style=\"text-align: right;\">\n",
       "      <th></th>\n",
       "      <th>f0</th>\n",
       "      <th>f1</th>\n",
       "      <th>f2</th>\n",
       "      <th>product</th>\n",
       "    </tr>\n",
       "  </thead>\n",
       "  <tbody>\n",
       "    <tr>\n",
       "      <th>count</th>\n",
       "      <td>100000.000000</td>\n",
       "      <td>100000.000000</td>\n",
       "      <td>100000.000000</td>\n",
       "      <td>100000.000000</td>\n",
       "    </tr>\n",
       "    <tr>\n",
       "      <th>mean</th>\n",
       "      <td>0.002023</td>\n",
       "      <td>-0.002081</td>\n",
       "      <td>2.495128</td>\n",
       "      <td>95.000000</td>\n",
       "    </tr>\n",
       "    <tr>\n",
       "      <th>std</th>\n",
       "      <td>1.732045</td>\n",
       "      <td>1.730417</td>\n",
       "      <td>3.473445</td>\n",
       "      <td>44.749921</td>\n",
       "    </tr>\n",
       "    <tr>\n",
       "      <th>min</th>\n",
       "      <td>-8.760004</td>\n",
       "      <td>-7.084020</td>\n",
       "      <td>-11.970335</td>\n",
       "      <td>0.000000</td>\n",
       "    </tr>\n",
       "    <tr>\n",
       "      <th>25%</th>\n",
       "      <td>-1.162288</td>\n",
       "      <td>-1.174820</td>\n",
       "      <td>0.130359</td>\n",
       "      <td>59.450441</td>\n",
       "    </tr>\n",
       "    <tr>\n",
       "      <th>50%</th>\n",
       "      <td>0.009424</td>\n",
       "      <td>-0.009482</td>\n",
       "      <td>2.484236</td>\n",
       "      <td>94.925613</td>\n",
       "    </tr>\n",
       "    <tr>\n",
       "      <th>75%</th>\n",
       "      <td>1.158535</td>\n",
       "      <td>1.163678</td>\n",
       "      <td>4.858794</td>\n",
       "      <td>130.595027</td>\n",
       "    </tr>\n",
       "    <tr>\n",
       "      <th>max</th>\n",
       "      <td>7.238262</td>\n",
       "      <td>7.844801</td>\n",
       "      <td>16.739402</td>\n",
       "      <td>190.029838</td>\n",
       "    </tr>\n",
       "  </tbody>\n",
       "</table>\n",
       "</div>"
      ],
      "text/plain": [
       "                  f0             f1             f2        product\n",
       "count  100000.000000  100000.000000  100000.000000  100000.000000\n",
       "mean        0.002023      -0.002081       2.495128      95.000000\n",
       "std         1.732045       1.730417       3.473445      44.749921\n",
       "min        -8.760004      -7.084020     -11.970335       0.000000\n",
       "25%        -1.162288      -1.174820       0.130359      59.450441\n",
       "50%         0.009424      -0.009482       2.484236      94.925613\n",
       "75%         1.158535       1.163678       4.858794     130.595027\n",
       "max         7.238262       7.844801      16.739402     190.029838"
      ]
     },
     "execution_count": 10,
     "metadata": {},
     "output_type": "execute_result"
    }
   ],
   "source": [
    "# Descriptive statistics\n",
    "geo_2.describe()"
   ]
  },
  {
   "cell_type": "markdown",
   "metadata": {},
   "source": [
    "### Preliminary Observations"
   ]
  },
  {
   "cell_type": "markdown",
   "metadata": {},
   "source": [
    "<div style=\"color: #196CC4;\">\n",
    "<b>Initial Observations:</b><br>\n",
    "▶ Series names start with lowercase letters, which will simplify working with them<br>\n",
    "▶ There are no missing values in any of the datasets<br>\n",
    "▶ There are no duplicate rows<br>\n",
    "▶ Data types are appropriate, with the first series containing strings and the rest containing floats<br>\n",
    "▶ The \"id\" column is irrelevant to the purpose of this project<br>    \n",
    "▶ The DataFrame appears clean and ready for analysis\n",
    "</div>"
   ]
  },
  {
   "cell_type": "markdown",
   "metadata": {},
   "source": [
    "-----"
   ]
  },
  {
   "cell_type": "markdown",
   "metadata": {},
   "source": [
    "## Exploratory Data Analysis (EDA)"
   ]
  },
  {
   "cell_type": "markdown",
   "metadata": {},
   "source": [
    "### Data Cleaning"
   ]
  },
  {
   "cell_type": "markdown",
   "metadata": {},
   "source": [
    "<div style=\"color: #196CC4;\">\n",
    "▶ It is suggested to drop the \"id\" column, as it is not valuable information and is an \"object\" type series\n",
    "</div>"
   ]
  },
  {
   "cell_type": "code",
   "execution_count": 11,
   "metadata": {},
   "outputs": [],
   "source": [
    "geo_0 = geo_0.drop('id', axis=1)\n",
    "geo_1 = geo_1.drop('id', axis=1)\n",
    "geo_2 = geo_2.drop('id', axis=1)"
   ]
  },
  {
   "cell_type": "markdown",
   "metadata": {},
   "source": [
    "### Data Display"
   ]
  },
  {
   "cell_type": "markdown",
   "metadata": {},
   "source": [
    "<div style=\"color: #196CC4;\">\n",
    "▶ Next, I will verify the changes made to the properties of the 3 DataFrames and their preview.<br>\n",
    "</div>"
   ]
  },
  {
   "cell_type": "code",
   "execution_count": 12,
   "metadata": {},
   "outputs": [
    {
     "data": {
      "text/html": [
       "<div>\n",
       "<style scoped>\n",
       "    .dataframe tbody tr th:only-of-type {\n",
       "        vertical-align: middle;\n",
       "    }\n",
       "\n",
       "    .dataframe tbody tr th {\n",
       "        vertical-align: top;\n",
       "    }\n",
       "\n",
       "    .dataframe thead th {\n",
       "        text-align: right;\n",
       "    }\n",
       "</style>\n",
       "<table border=\"1\" class=\"dataframe\">\n",
       "  <thead>\n",
       "    <tr style=\"text-align: right;\">\n",
       "      <th></th>\n",
       "      <th>f0</th>\n",
       "      <th>f1</th>\n",
       "      <th>f2</th>\n",
       "      <th>product</th>\n",
       "    </tr>\n",
       "  </thead>\n",
       "  <tbody>\n",
       "    <tr>\n",
       "      <th>0</th>\n",
       "      <td>0.705745</td>\n",
       "      <td>-0.497823</td>\n",
       "      <td>1.221170</td>\n",
       "      <td>105.280062</td>\n",
       "    </tr>\n",
       "    <tr>\n",
       "      <th>1</th>\n",
       "      <td>1.334711</td>\n",
       "      <td>-0.340164</td>\n",
       "      <td>4.365080</td>\n",
       "      <td>73.037750</td>\n",
       "    </tr>\n",
       "    <tr>\n",
       "      <th>2</th>\n",
       "      <td>1.022732</td>\n",
       "      <td>0.151990</td>\n",
       "      <td>1.419926</td>\n",
       "      <td>85.265647</td>\n",
       "    </tr>\n",
       "  </tbody>\n",
       "</table>\n",
       "</div>"
      ],
      "text/plain": [
       "         f0        f1        f2     product\n",
       "0  0.705745 -0.497823  1.221170  105.280062\n",
       "1  1.334711 -0.340164  4.365080   73.037750\n",
       "2  1.022732  0.151990  1.419926   85.265647"
      ]
     },
     "metadata": {},
     "output_type": "display_data"
    },
    {
     "data": {
      "text/html": [
       "<div>\n",
       "<style scoped>\n",
       "    .dataframe tbody tr th:only-of-type {\n",
       "        vertical-align: middle;\n",
       "    }\n",
       "\n",
       "    .dataframe tbody tr th {\n",
       "        vertical-align: top;\n",
       "    }\n",
       "\n",
       "    .dataframe thead th {\n",
       "        text-align: right;\n",
       "    }\n",
       "</style>\n",
       "<table border=\"1\" class=\"dataframe\">\n",
       "  <thead>\n",
       "    <tr style=\"text-align: right;\">\n",
       "      <th></th>\n",
       "      <th>f0</th>\n",
       "      <th>f1</th>\n",
       "      <th>f2</th>\n",
       "      <th>product</th>\n",
       "    </tr>\n",
       "  </thead>\n",
       "  <tbody>\n",
       "    <tr>\n",
       "      <th>0</th>\n",
       "      <td>-15.001348</td>\n",
       "      <td>-8.276000</td>\n",
       "      <td>-0.005876</td>\n",
       "      <td>3.179103</td>\n",
       "    </tr>\n",
       "    <tr>\n",
       "      <th>1</th>\n",
       "      <td>14.272088</td>\n",
       "      <td>-3.475083</td>\n",
       "      <td>0.999183</td>\n",
       "      <td>26.953261</td>\n",
       "    </tr>\n",
       "    <tr>\n",
       "      <th>2</th>\n",
       "      <td>6.263187</td>\n",
       "      <td>-5.948386</td>\n",
       "      <td>5.001160</td>\n",
       "      <td>134.766305</td>\n",
       "    </tr>\n",
       "  </tbody>\n",
       "</table>\n",
       "</div>"
      ],
      "text/plain": [
       "          f0        f1        f2     product\n",
       "0 -15.001348 -8.276000 -0.005876    3.179103\n",
       "1  14.272088 -3.475083  0.999183   26.953261\n",
       "2   6.263187 -5.948386  5.001160  134.766305"
      ]
     },
     "metadata": {},
     "output_type": "display_data"
    },
    {
     "data": {
      "text/html": [
       "<div>\n",
       "<style scoped>\n",
       "    .dataframe tbody tr th:only-of-type {\n",
       "        vertical-align: middle;\n",
       "    }\n",
       "\n",
       "    .dataframe tbody tr th {\n",
       "        vertical-align: top;\n",
       "    }\n",
       "\n",
       "    .dataframe thead th {\n",
       "        text-align: right;\n",
       "    }\n",
       "</style>\n",
       "<table border=\"1\" class=\"dataframe\">\n",
       "  <thead>\n",
       "    <tr style=\"text-align: right;\">\n",
       "      <th></th>\n",
       "      <th>f0</th>\n",
       "      <th>f1</th>\n",
       "      <th>f2</th>\n",
       "      <th>product</th>\n",
       "    </tr>\n",
       "  </thead>\n",
       "  <tbody>\n",
       "    <tr>\n",
       "      <th>0</th>\n",
       "      <td>-1.146987</td>\n",
       "      <td>0.963328</td>\n",
       "      <td>-0.828965</td>\n",
       "      <td>27.758673</td>\n",
       "    </tr>\n",
       "    <tr>\n",
       "      <th>1</th>\n",
       "      <td>0.262778</td>\n",
       "      <td>0.269839</td>\n",
       "      <td>-2.530187</td>\n",
       "      <td>56.069697</td>\n",
       "    </tr>\n",
       "    <tr>\n",
       "      <th>2</th>\n",
       "      <td>0.194587</td>\n",
       "      <td>0.289035</td>\n",
       "      <td>-5.586433</td>\n",
       "      <td>62.871910</td>\n",
       "    </tr>\n",
       "  </tbody>\n",
       "</table>\n",
       "</div>"
      ],
      "text/plain": [
       "         f0        f1        f2    product\n",
       "0 -1.146987  0.963328 -0.828965  27.758673\n",
       "1  0.262778  0.269839 -2.530187  56.069697\n",
       "2  0.194587  0.289035 -5.586433  62.871910"
      ]
     },
     "metadata": {},
     "output_type": "display_data"
    }
   ],
   "source": [
    "# General data overview\n",
    "display(geo_0.head(3))\n",
    "display(geo_1.head(3))\n",
    "display(geo_2.head(3))"
   ]
  },
  {
   "cell_type": "markdown",
   "metadata": {},
   "source": [
    "-----"
   ]
  },
  {
   "cell_type": "markdown",
   "metadata": {},
   "source": [
    "## Training"
   ]
  },
  {
   "cell_type": "markdown",
   "metadata": {},
   "source": [
    "### Procedure"
   ]
  },
  {
   "cell_type": "markdown",
   "metadata": {},
   "source": [
    "<div style=\"color: #196CC4;\">\n",
    "<b>The source data is divided as follows to reach a 3:1 ratio:</b><br>\n",
    "▶ 75% Dataset for training<br>\n",
    "▶ 25% Dataset for validation<br>\n",
    "▶ The larger the training set, the more data the model will have to learn patterns and relationships in the data. On the other hand, the validation dataset will be used to evaluate the model's performance.<br>\n",
    "\n",
    "\n",
    "<b>Linear Regression:</b><br>\n",
    "▶ Linear regression is used to predict or explain the average value of the dependent variable as a function of the independent variables.<br>\n",
    "▶ For this model, \"y\" is the target, a dependent variable we want to find. In this case, it is the price. \"x\" is the feature, an independent variable that defines the dependent variable.<br>\n",
    "\n",
    "<b>RMSE:</b><br>\n",
    "▶ RMSE stands for \"Root Mean Square Error\". It is a commonly used measure to evaluate the accuracy of a regression model. <br>\n",
    "▶ An RMSE of 0 would indicate that the model perfectly predicts the observed values, which is rare in practice.<br>\n",
    "▶ In general, the value of the RMSE can range from 0 to the same range as the observed values in the data. For example, if the observed values are in the range of 0 to 100, the RMSE could range from 0 to 100.<br>\n",
    "</div>"
   ]
  },
  {
   "cell_type": "markdown",
   "metadata": {},
   "source": [
    "### Execution Function"
   ]
  },
  {
   "cell_type": "code",
   "execution_count": 13,
   "metadata": {},
   "outputs": [],
   "source": [
    "def geo_training(dataset):\n",
    "    # Data division\n",
    "    df_train, df_valid = train_test_split(dataset, test_size=0.25, random_state=12345)\n",
    "\n",
    "    # Extract features and target variables from the training and validation sets\n",
    "    X_train = df_train.drop(['product'], axis=1)\n",
    "    y_train = df_train['product']\n",
    "\n",
    "    X_val = df_valid.drop(['product'], axis=1)\n",
    "    y_val = df_valid['product']\n",
    "    \n",
    "    # Training\n",
    "    model = LinearRegression()\n",
    "    model.fit(X_train, y_train)\n",
    "    \n",
    "    # Predict \n",
    "    #predict = pd.Series(model.predict(X_val))\n",
    "    predict = model.predict(X_val)\n",
    "    \n",
    "    #Mean on prediction\n",
    "    mean_volume = np.mean(predict)\n",
    "    \n",
    "    # RMSE\n",
    "    rmse = np.sqrt(mean_squared_error(y_val, predict))\n",
    "    \n",
    "    return {'rmse': rmse, 'predictions': predict, 'mean_volume': mean_volume, 'real_values': y_val}\n",
    "    # Print\n",
    "    #print(\"Dataset:\", dataset)"
   ]
  },
  {
   "cell_type": "code",
   "execution_count": 14,
   "metadata": {},
   "outputs": [],
   "source": [
    "# Function call + Variables\n",
    "results_geo_0 = geo_training(geo_0)\n",
    "results_geo_1 = geo_training(geo_1)\n",
    "results_geo_2 = geo_training(geo_2)"
   ]
  },
  {
   "cell_type": "markdown",
   "metadata": {},
   "source": [
    "### Results Output"
   ]
  },
  {
   "cell_type": "markdown",
   "metadata": {},
   "source": [
    "<div style=\"color: #196CC4;\">\n",
    "▶ Store all necessary values for calculations in separate variables:\n",
    "We have already calculated the predicted mean reserve volume (mean_volume) and the model's RMSE (rmse) for each region. These values are important for our subsequent calculations and we have stored them as variables in our code."
   ]
  },
  {
   "cell_type": "code",
   "execution_count": 15,
   "metadata": {},
   "outputs": [
    {
     "name": "stdout",
     "output_type": "stream",
     "text": [
      "PPREDICTIONS FOR REGION 0 (<geo_0>) ARE:\n",
      "- Average reserve volume: 92.59256778438035\n",
      "- RMSE: 37.5794217150813\n",
      "- Predictions: [ 95.89495185  77.57258261  77.89263965 ...  61.50983303 118.18039721\n",
      " 118.16939229]\n",
      "\n",
      "PPREDICTIONS FOR REGION 1 (<geo_1>) ARE:\n",
      "- Average reserve volume: 68.728546895446\n",
      "- RMSE: 0.8930992867756165\n",
      "- Predictions: [ 82.66331365  54.43178616  29.74875995 ... 137.87934053  83.76196568\n",
      "  53.95846638]\n",
      "\n",
      "PPREDICTIONS FOR REGION 2 (<geo_2>) ARE:\n",
      "- Average reserve volume: 94.96504596800489\n",
      "- RMSE: 40.02970873393434\n",
      "- Predictions: [ 93.59963303  75.10515854  90.06680936 ...  99.40728116  77.77991248\n",
      " 129.03241718]\n",
      "\n"
     ]
    }
   ],
   "source": [
    "# geo_0 - Data\n",
    "print(\"PPREDICTIONS FOR REGION 0 (<geo_0>) ARE:\")\n",
    "print(\"- Average reserve volume:\", results_geo_0['mean_volume'])\n",
    "print(\"- RMSE:\", results_geo_0['rmse'])\n",
    "print(\"- Predictions:\", results_geo_0['predictions'])\n",
    "print()\n",
    "\n",
    "# geo_1 - Data\n",
    "print(\"PPREDICTIONS FOR REGION 1 (<geo_1>) ARE:\")\n",
    "print(\"- Average reserve volume:\", results_geo_1['mean_volume'])\n",
    "print(\"- RMSE:\", results_geo_1['rmse'])\n",
    "print(\"- Predictions:\", results_geo_1['predictions'])\n",
    "print()\n",
    "\n",
    "# geo_2 - Data\n",
    "print(\"PPREDICTIONS FOR REGION 2 (<geo_2>) ARE:\")\n",
    "print(\"- Average reserve volume:\", results_geo_2['mean_volume'])\n",
    "print(\"- RMSE:\", results_geo_2['rmse'])\n",
    "print(\"- Predictions:\", results_geo_2['predictions'])\n",
    "print()"
   ]
  },
  {
   "cell_type": "markdown",
   "metadata": {},
   "source": [
    "### Findings"
   ]
  },
  {
   "cell_type": "markdown",
   "metadata": {},
   "source": [
    "<div style=\"color: #196CC4;\">\n",
    "<b>Average Volume</b><br>\n",
    "▶ Region 2 has the highest average reserve volume, followed by regions 0 and 1.<br>\n",
    "▶ There is a significant difference between the average reserve volume of region 1 and the other two regions.<br><br>\n",
    "<b>RMSE</b><br>\n",
    "▶ Region 1 has the lowest RMSE, indicating a better fit to the data for that region compared to the other two regions.<br>\n",
    "▶ Region 0 and region 2 have higher RMSE values, so the predictions are not as accurate in those regions.<br><br>\n",
    "<b>Region 1, although it has a lower average reserve volume, has a significantly lower RMSE, indicating a better model performance in that region.</b> <br>\n",
    "\n",
    "</div>"
   ]
  },
  {
   "cell_type": "markdown",
   "metadata": {},
   "source": [
    "-----"
   ]
  },
  {
   "cell_type": "markdown",
   "metadata": {},
   "source": [
    "## Data Preparation"
   ]
  },
  {
   "cell_type": "markdown",
   "metadata": {},
   "source": [
    "### Procedure"
   ]
  },
  {
   "cell_type": "markdown",
   "metadata": {},
   "source": [
    "<div style=\"color: #196CC4;\">\n",
    "▶ The predicted mean reserve volume (mean_volume) and the model's root mean squared error (RMSE) have been calculated for each region.<br>\n",
    "▶ Given that the minimum required revenue per well to avoid losses is $500,000, equivalent to 111.1 units, this value can be used as a benchmark to compare with the predicted mean reserve volume for each region.<br>\n",
    "</div>"
   ]
  },
  {
   "cell_type": "markdown",
   "metadata": {},
   "source": [
    "### Variables definition"
   ]
  },
  {
   "cell_type": "markdown",
   "metadata": {},
   "source": [
    "<div style=\"color: #196CC4;\">\n",
    "▶ The following variables, which were presented in the initial project description, will be used to calculate the profit later.\n",
    "</div>"
   ]
  },
  {
   "cell_type": "code",
   "execution_count": 16,
   "metadata": {},
   "outputs": [
    {
     "name": "stdout",
     "output_type": "stream",
     "text": [
      "Minimum units to avoid losses 111.11111111111111\n"
     ]
    }
   ],
   "source": [
    "# Variables\n",
    "investment_money = 100_000_000\n",
    "investment_wells = 200\n",
    "well_min_profit = 500_000  \n",
    "barrel_profit = 4.5\n",
    "revenue_per_unit = 4_500\n",
    "\n",
    "well_min_reserve = (well_min_profit / barrel_profit)/1000\n",
    "print(\"Minimum units to avoid losses\", well_min_reserve)"
   ]
  },
  {
   "cell_type": "markdown",
   "metadata": {},
   "source": [
    "### Results Output"
   ]
  },
  {
   "cell_type": "code",
   "execution_count": 17,
   "metadata": {},
   "outputs": [
    {
     "name": "stdout",
     "output_type": "stream",
     "text": [
      "For region geo_0:\n",
      " 92.59256778438035 → Has a LOWER AVERAGE VOLUME compared to the minimum required to avoid losses \n",
      "\n",
      "For region geo_1:\n",
      " 68.728546895446 → Has a LOWER AVERAGE VOLUME compared to the minimum required to avoid losses \n",
      "\n",
      "For region geo_2:\n",
      " 94.96504596800489 → Has a LOWER AVERAGE VOLUME compared to the minimum required to avoid losses\n"
     ]
    }
   ],
   "source": [
    "# Volume function\n",
    "def compare_mean_volume_with_min_reserve(mean_volume):\n",
    "    if mean_volume > well_min_reserve:\n",
    "        return \"Has a HIGHER AVERAGE VOLUME compared to the minimum required to avoid losses\"\n",
    "    else:\n",
    "        return \"Has a LOWER AVERAGE VOLUME compared to the minimum required to avoid losses\"\n",
    "\n",
    "\n",
    "# Function Calls\n",
    "print(\"For region geo_0:\\n\", results_geo_0['mean_volume'], \"→\", compare_mean_volume_with_min_reserve(\n",
    "    results_geo_0['mean_volume']), \"\\n\")\n",
    "print(\"For region geo_1:\\n\", results_geo_1['mean_volume'], \"→\", compare_mean_volume_with_min_reserve(\n",
    "    results_geo_1['mean_volume']), \"\\n\")\n",
    "print(\"For region geo_2:\\n\", results_geo_2['mean_volume'], \"→\",\n",
    "      compare_mean_volume_with_min_reserve(results_geo_2['mean_volume']))"
   ]
  },
  {
   "cell_type": "markdown",
   "metadata": {},
   "source": [
    "### Findings"
   ]
  },
  {
   "cell_type": "markdown",
   "metadata": {},
   "source": [
    "<div style=\"color: #196CC4;\">\n",
    "The following are the comparative results between the average volume of each region and the minimum required:<br><br>\n",
    "▶  <b>It is important to note that these results are based on the validation dataset and not on the entire dataset provided, so it is normal for the average volume to be, in all cases for these results, lower than the minimum required.</b><br>\n",
    "▶  None of the regions seem to be economically viable for oil extraction, as the predicted average reserve volume is insufficient to cover the minimum costs required to avoid losses.<br>\n",
    "▶  The predicted average reserve volume for region geo_2 is the highest compared to the other two regions, with 94.97 units.\n",
    "</div>"
   ]
  },
  {
   "cell_type": "markdown",
   "metadata": {},
   "source": [
    "-----"
   ]
  },
  {
   "cell_type": "markdown",
   "metadata": {},
   "source": [
    "## Profit Calculation"
   ]
  },
  {
   "cell_type": "markdown",
   "metadata": {},
   "source": [
    "### Procedure"
   ]
  },
  {
   "cell_type": "markdown",
   "metadata": {},
   "source": [
    "<div style=\"color: #196CC4;\">\n",
    "The potential profits from developing oil wells in the three regions are calculated as follows:<br>\n",
    "▶ A function (profit) is defined that receives the predictions and the price per barrel.<br>\n",
    "▶ The predictions are converted into a pandas series and sorted in descending order.<br>\n",
    "▶ The top 200 wells are selected from the predictions.<br>\n",
    "▶ The actual values of these wells are obtained for the following steps.<br>\n",
    "▶ The potential revenue is calculated by multiplying the total reserve volume by the price per barrel.<br>\n",
    "▶ The profit is calculated by subtracting the initial investment (investment_money).<br>\n",
    "</div>"
   ]
  },
  {
   "cell_type": "markdown",
   "metadata": {},
   "source": [
    "### Execution function"
   ]
  },
  {
   "cell_type": "code",
   "execution_count": 18,
   "metadata": {},
   "outputs": [],
   "source": [
    "# Profit function\n",
    "def profit(data_geo, barrel_prices):\n",
    "    # Real values sorted\n",
    "    real_wells = data_geo.sort_values(by=\"predictions\", ascending=False)['real_values'].head(200)\n",
    "\n",
    "    #Profit of real values\n",
    "    \n",
    "    # Volume\n",
    "    total_reserves_volume = real_wells.sum()\n",
    "    # income\n",
    "    income = total_reserves_volume * revenue_per_unit\n",
    "    #profit\n",
    "    profit = income - investment_money\n",
    "    # Return\n",
    "    return profit"
   ]
  },
  {
   "cell_type": "markdown",
   "metadata": {},
   "source": [
    "### Results Output"
   ]
  },
  {
   "cell_type": "markdown",
   "metadata": {},
   "source": [
    "<div style=\"color: #196CC4;\">\n",
    "The potential profits from developing oil wells in the three regions are calculated as follows:<br>\n",
    "▶ The profit function is used to calculate the potential profits for each region (geo_0, geo_1, and geo_2).<br>\n",
    "▶ The results are stored in a dictionary.<br>\n",
    "▶ The region with the highest potential profit is determined using the max() function.\n",
    "</div>"
   ]
  },
  {
   "cell_type": "code",
   "execution_count": 19,
   "metadata": {},
   "outputs": [],
   "source": [
    "# Reduced Dataframe\n",
    "df_results_geo_0 = pd.DataFrame({\n",
    "    'predictions': results_geo_0['predictions'],\n",
    "    'real_values': results_geo_0['real_values']  })\n",
    "\n",
    "df_results_geo_1 = pd.DataFrame({\n",
    "    'predictions': results_geo_1['predictions'],\n",
    "    'real_values': results_geo_1['real_values']  })\n",
    "\n",
    "df_results_geo_2 = pd.DataFrame({\n",
    "    'predictions': results_geo_2['predictions'],\n",
    "    'real_values': results_geo_2['real_values']  })\n",
    "\n",
    "# Print\n",
    "#print(df_results_geo_0)\n",
    "#print(df_results_geo_1)\n",
    "#print(df_results_geo_2)"
   ]
  },
  {
   "cell_type": "code",
   "execution_count": 20,
   "metadata": {},
   "outputs": [
    {
     "name": "stdout",
     "output_type": "stream",
     "text": [
      "Earnings in dollars for geo_0: 33208260.43139851\n",
      "Earnings in dollars for geo_1: 24150866.966815114\n",
      "Earnings in dollars for geo_2: 27103499.635998324\n"
     ]
    }
   ],
   "source": [
    "# Profit\n",
    "profit_geo_0 = profit(df_results_geo_0, revenue_per_unit)\n",
    "profit_geo_1 = profit(df_results_geo_1, revenue_per_unit)\n",
    "profit_geo_2 = profit(df_results_geo_2, revenue_per_unit)\n",
    "\n",
    "# Dictionary\n",
    "potential_profits = {\n",
    "    'geo_0': profit_geo_0,\n",
    "    'geo_1': profit_geo_1,\n",
    "    'geo_2': profit_geo_2\n",
    "}\n",
    "\n",
    "# Highest profit \"max\"\n",
    "best_region = max(potential_profits, key=potential_profits.get)\n",
    "\n",
    "# Print\n",
    "print(\"Earnings in dollars for geo_0:\", profit_geo_0)\n",
    "print(\"Earnings in dollars for geo_1:\", profit_geo_1)\n",
    "print(\"Earnings in dollars for geo_2:\", profit_geo_2)"
   ]
  },
  {
   "cell_type": "markdown",
   "metadata": {},
   "source": [
    "### Findings"
   ]
  },
  {
   "cell_type": "markdown",
   "metadata": {},
   "source": [
    "<div style=\"color: #196CC4;\">\n",
    "▶ Earnings in dollars for geo_0 → $33,208,260.43<br>\n",
    "▶ Earnings in dollars for geo_1 → $24,150,866.97<br>\n",
    "▶ Earnings in dollars for geo_2 → $27,103,499.64<br>\n",
    "\n",
    "<b>In summary, region geo_0 is the most recommended for oil well development due to its higher earning potential. Region geo_2 is the second most profitable.</b>\n",
    "\n",
    "</div>"
   ]
  },
  {
   "cell_type": "markdown",
   "metadata": {},
   "source": [
    "-----"
   ]
  },
  {
   "cell_type": "markdown",
   "metadata": {},
   "source": [
    "## Regional risk-reward analysis"
   ]
  },
  {
   "cell_type": "markdown",
   "metadata": {},
   "source": [
    "### Bootstrapping"
   ]
  },
  {
   "cell_type": "markdown",
   "metadata": {},
   "source": [
    "<div style=\"color: #196CC4;\">\n",
    "▶ Bootstrapping is a resampling technique used to estimate the distribution of a statistic of interest from an existing dataset. <br>\n",
    "▶ Three calls to the bootstrapping function are made for each of the three regions.\n",
    "</div>"
   ]
  },
  {
   "cell_type": "code",
   "execution_count": 21,
   "metadata": {},
   "outputs": [],
   "source": [
    "# Random State\n",
    "state = np.random.RandomState(54321)\n",
    "\n",
    "# Bootstrapping function\n",
    "def bootstrapping(df, num_samples=1000, alpha=0.05):\n",
    "    profits = []\n",
    "    \n",
    "    # Loop\n",
    "    for _ in range(num_samples):\n",
    "        \n",
    "        # Sample data with replacement\n",
    "        wells = pd.DataFrame(df).sample(n=500, replace=True, random_state=state)\n",
    "        \n",
    "        # Profit\n",
    "        benefit_sample = profit(wells, revenue_per_unit)\n",
    "        \n",
    "        # Append to the list\n",
    "        profits.append(benefit_sample)\n",
    "    \n",
    "    # Lower and upper bounds (confidence interval) with percentiles\n",
    "    lower_bound = np.percentile(profits, 2.5)  # Percentile 2.5\n",
    "    upper_bound = np.percentile(profits, 97.5)  # Percentile 97.5\n",
    "    \n",
    "    # Convert to Series\n",
    "    profits = pd.Series(profits)\n",
    "    \n",
    "    # Return\n",
    "    return profits, (lower_bound, upper_bound)"
   ]
  },
  {
   "cell_type": "markdown",
   "metadata": {},
   "source": [
    "<div style=\"color: #196CC4;\">\n",
    "▶ Three calls to the bootstrapping function are made for each of the three regions. This function generates a distribution of profits from the data samples.\n",
    "</div>"
   ]
  },
  {
   "cell_type": "code",
   "execution_count": 22,
   "metadata": {},
   "outputs": [
    {
     "name": "stdout",
     "output_type": "stream",
     "text": [
      "Boostrapping for region 0: 3920829.088547083\n",
      "Boostrapping for region 1: 4604869.8247138085\n",
      "Boostrapping for region 2: 3964626.5656833537\n"
     ]
    }
   ],
   "source": [
    "# Profit per region\n",
    "bootstrapping_geo_0= bootstrapping(df_results_geo_0)\n",
    "bootstrapping_geo_1 = bootstrapping(df_results_geo_1)\n",
    "bootstrapping_geo_2 = bootstrapping(df_results_geo_2)\n",
    "\n",
    "# Print\n",
    "print(\"Boostrapping for region 0:\", bootstrapping_geo_0[0].mean())\n",
    "print(\"Boostrapping for region 1:\", bootstrapping_geo_1[0].mean())\n",
    "print(\"Boostrapping for region 2:\", bootstrapping_geo_2[0].mean())"
   ]
  },
  {
   "cell_type": "markdown",
   "metadata": {},
   "source": [
    "### Key statistics "
   ]
  },
  {
   "cell_type": "markdown",
   "metadata": {},
   "source": [
    "<div style=\"color: #196CC4;\">\n",
    "A new function is now created to calculate three key statistics:<br><br>\n",
    "▶ <b>Average Profit:</b> The mean of the profit distribution is calculated.<br>\n",
    "▶ <b>95% Confidence Interval:</b> The 95% confidence interval is calculated using the Student's t-distribution.<br>\n",
    "▶ <b>Percentage of Loss Risk:</b> The percentage of samples in the profit distribution that are less than zero is calculated, representing the risk of loss. This value is expressed as a percentage.\n",
    "</div>"
   ]
  },
  {
   "cell_type": "code",
   "execution_count": 23,
   "metadata": {},
   "outputs": [],
   "source": [
    "# mean, 95% confidence interval, risk of loss\n",
    "\n",
    "def statistics(profit_distribution):\n",
    "    # Mean profit\n",
    "    mean_profit = np.mean(profit_distribution)\n",
    "\n",
    "    # risk_of_loss\n",
    "    risk_of_loss = np.mean([p < 0 for p in profit_distribution]) * 100\n",
    "    \n",
    "    # Return\n",
    "    return mean_profit, risk_of_loss"
   ]
  },
  {
   "cell_type": "markdown",
   "metadata": {},
   "source": [
    "### Results Output"
   ]
  },
  {
   "cell_type": "markdown",
   "metadata": {},
   "source": [
    "<div style=\"color: #196CC4;\">\n",
    "▶ Finally, the statistics functions are applied to each of the generated profit distributions for the three regions, and the results are printed.\n",
    "</div>"
   ]
  },
  {
   "cell_type": "code",
   "execution_count": 24,
   "metadata": {},
   "outputs": [],
   "source": [
    "# Confidence Interval\n",
    "confidence_interval_geo_0 = bootstrapping_geo_0[1]\n",
    "confidence_interval_geo_1 = bootstrapping_geo_1[1]\n",
    "confidence_interval_geo_2 = bootstrapping_geo_2[1]\n",
    "\n",
    "# Statistics\n",
    "mean_profit_geo_0, loss_risk_geo_0 = statistics(bootstrapping_geo_0[0])\n",
    "mean_profit_geo_1, loss_risk_geo_1 = statistics(bootstrapping_geo_1[0])\n",
    "mean_profit_geo_2, loss_risk_geo_2 = statistics(bootstrapping_geo_2[0])"
   ]
  },
  {
   "cell_type": "code",
   "execution_count": 25,
   "metadata": {
    "scrolled": true
   },
   "outputs": [
    {
     "name": "stdout",
     "output_type": "stream",
     "text": [
      "Region geo_0:\n",
      "- Average profit: 3920829.088547083\n",
      "- 95% Confidence interval: (-1108640.0281520828, 9033598.336663691)\n",
      "- % Loss risk: 6.4\n",
      "\n",
      "Region geo_1:\n",
      "- Average profit: 4604869.8247138085\n",
      "- 95% Confidence interval: (866343.877264005, 8722384.953529775)\n",
      "- % Loss risk: 1.3\n",
      "\n",
      "Region geo_2:\n",
      "- Average profit: 3964626.5656833537\n",
      "- 95% Confidence interval: (-1052362.8029479317, 9178751.558821613)\n",
      "- % Loss risk: 6.3\n",
      "\n"
     ]
    }
   ],
   "source": [
    "# Print\n",
    "print(\"Region geo_0:\")\n",
    "print(\"- Average profit:\", mean_profit_geo_0)\n",
    "print(\"- 95% Confidence interval:\", confidence_interval_geo_0)\n",
    "print(\"- % Loss risk:\", loss_risk_geo_0)\n",
    "print()\n",
    "\n",
    "print(\"Region geo_1:\")\n",
    "print(\"- Average profit:\", mean_profit_geo_1)\n",
    "print(\"- 95% Confidence interval:\", confidence_interval_geo_1)\n",
    "print(\"- % Loss risk:\", loss_risk_geo_1)\n",
    "print()\n",
    "\n",
    "print(\"Region geo_2:\")\n",
    "print(\"- Average profit:\", mean_profit_geo_2)\n",
    "print(\"- 95% Confidence interval:\", confidence_interval_geo_2)\n",
    "print(\"- % Loss risk:\", loss_risk_geo_2)\n",
    "print()"
   ]
  },
  {
   "cell_type": "markdown",
   "metadata": {},
   "source": [
    "-----"
   ]
  },
  {
   "cell_type": "markdown",
   "metadata": {},
   "source": [
    "## Conclusions"
   ]
  },
  {
   "cell_type": "markdown",
   "metadata": {},
   "source": [
    "### Given statistics"
   ]
  },
  {
   "cell_type": "markdown",
   "metadata": {},
   "source": [
    "<div style=\"color: #196CC4;\">\n",
    "<b>Region geo_0:</b><br>\n",
    "▶ Average Profit: 3,920,829.09<br>\n",
    "▶ 95% Confidence Interval: (-1108640.0281520828, 9033598.336663691)<br>\n",
    "▶ Loss Risk: 6.4%<br><br>\n",
    "<b>Region geo_1:</b><br>\n",
    "▶ Average Profit: 4,604,869.82<br>\n",
    "▶ 95% Confidence Interval: (866343.877264005, 8722384.953529775)<br>\n",
    "▶ Loss Risk: 1.3%<br><br>\n",
    "<b>Region geo_2:</b><br>\n",
    "▶ Average Profit: 3,964,626.57<br>\n",
    "▶ 95% Confidence Interval: (-1052362.8029479317, 9178751.558821613)<br>\n",
    "▶ Loss Risk: 6.3%<br>\n",
    "</div>"
   ]
  },
  {
   "cell_type": "markdown",
   "metadata": {},
   "source": [
    "### Most suitable region for well development"
   ]
  },
  {
   "cell_type": "markdown",
   "metadata": {},
   "source": [
    "<div style=\"color: #196CC4;\">\n",
    "▶ Based on the resulting statistics, we can observe that <b>region geo_1 is the best option for oil well development</b>. It has the highest average profit of 4,604,869.82, along with a 95% confidence interval ranging from 866,343.88 to 8,722,384.95. This means that there is a high degree of confidence (95%) that the actual average profit falls within this range. Additionally, it presents the lowest risk of loss, with only 1.3%. This suggests that significant losses on investments in this region are unlikely.\n",
    "</div>"
   ]
  }
 ],
 "metadata": {
  "kernelspec": {
   "display_name": "Python 3 (ipykernel)",
   "language": "python",
   "name": "python3"
  },
  "language_info": {
   "codemirror_mode": {
    "name": "ipython",
    "version": 3
   },
   "file_extension": ".py",
   "mimetype": "text/x-python",
   "name": "python",
   "nbconvert_exporter": "python",
   "pygments_lexer": "ipython3",
   "version": "3.12.5"
  },
  "toc": {
   "base_numbering": 1,
   "nav_menu": {},
   "number_sections": true,
   "sideBar": true,
   "skip_h1_title": true,
   "title_cell": "Table of Contents",
   "title_sidebar": "Contents",
   "toc_cell": false,
   "toc_position": {
    "height": "calc(100% - 180px)",
    "left": "10px",
    "top": "150px",
    "width": "229.325px"
   },
   "toc_section_display": true,
   "toc_window_display": true
  }
 },
 "nbformat": 4,
 "nbformat_minor": 2
}
