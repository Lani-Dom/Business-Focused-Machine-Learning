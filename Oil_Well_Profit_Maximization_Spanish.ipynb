{
 "cells": [
  {
   "cell_type": "markdown",
   "metadata": {},
   "source": [
    "# Maximización de la Rentabilidad de Pozos de Petróleo"
   ]
  },
  {
   "cell_type": "markdown",
   "metadata": {},
   "source": [
    "-----"
   ]
  },
  {
   "cell_type": "markdown",
   "metadata": {},
   "source": [
    "## Overview"
   ]
  },
  {
   "cell_type": "markdown",
   "metadata": {},
   "source": [
    "### Descripción"
   ]
  },
  {
   "cell_type": "markdown",
   "metadata": {},
   "source": [
    "<div style=\"color: #196CC4;\">\n",
    "Este proyecto implica una exhaustiva evaluación de los datos geológicos de tres regiones, utilizando modelos de regresión lineal para predecir el volumen de reservas en los pozos potenciales. Finalmente, elegiremos la región con el beneficio promedio más alto entre las regiones consideradas para abrir los nuevos pozos, con un riesgo de pérdida inferior al 2.5%.\n",
    "</div>"
   ]
  },
  {
   "cell_type": "markdown",
   "metadata": {},
   "source": [
    "### Objetivo"
   ]
  },
  {
   "cell_type": "markdown",
   "metadata": {},
   "source": [
    "<div style=\"color: #196CC4;\">\n",
    "Utilizar modelos de regresión lineal para identificar la región más rentable un riesgo de pérdida inferior al 2.5%, para abrir 200 nuevos pozos petroleros, maximizando el beneficio total dentro de un presupuesto de 100 millones de dólares; todo esto mediante la evaluación de datos geológicos de tres regiones y la selección de los mejores puntos utilizando criterios de predicción de volumen de reservas y análisis de riesgo utilizando bootstrapping. \n",
    "</div>"
   ]
  },
  {
   "cell_type": "markdown",
   "metadata": {},
   "source": [
    "### Recursos"
   ]
  },
  {
   "cell_type": "markdown",
   "metadata": {},
   "source": [
    "<div style=\"color: #196CC4;\">\n",
    "<b>Los datos de exploración geológica de las tres regiones se almacenan en archivos:</b><br>\n",
    "▶ Conjunto de datos geo_data_0.csv<br>\n",
    "▶ Conjunto de datos geo_data_1.csv<br>\n",
    "▶ Conjunto de datos geo_data_2.csv<br>\n",
    "▶ id — identificador único de pozo de petróleo<br>\n",
    "▶ f0, f1, f2 — tres características de los puntos (su significado específico no es importante, pero las características en sí son significativas)<br>\n",
    "▶ product — volumen de reservas en el pozo de petróleo (miles de barriles).\n"
   ]
  },
  {
   "cell_type": "markdown",
   "metadata": {},
   "source": [
    "### Condiciones"
   ]
  },
  {
   "cell_type": "markdown",
   "metadata": {},
   "source": [
    "<div style=\"color: #196CC4;\">\n",
    "▶ Solo se debe usar la regresión lineal para el entrenamiento del modelo.<br>\n",
    "▶ Al explorar la región, se lleva a cabo un estudio de 500 puntos con la selección de los mejores 200 puntos para el cálculo del beneficio.<br>\n",
    "▶ El presupuesto para el desarrollo de 200 pozos petroleros es de 100 millones de dólares.<br>\n",
    "▶ Un barril de materias primas genera 4.5 USD de ingresos. El ingreso de una unidad de producto es de 4500 dólares (el volumen de reservas está expresado en miles de barriles).<br>\n",
    "▶ Después de la evaluación de riesgo, mantén solo las regiones con riesgo de pérdidas inferior al 2.5%. De las que se ajustan a los criterios, se debe seleccionar la región con el beneficio promedio más alto.<br>\n",
    "▶ Los datos son sintéticos: los detalles del contrato y las características del pozo no se publican.\n",
    "</div>"
   ]
  },
  {
   "cell_type": "markdown",
   "metadata": {},
   "source": [
    "### Metodología"
   ]
  },
  {
   "cell_type": "markdown",
   "metadata": {},
   "source": [
    "<div style=\"color: #196CC4;\">\n",
    "<b>Procedimiento general para abordar este proyecto:</b><br>\n",
    "\n",
    "▶ Comprender la estructura y contenido del Dataset<br>\n",
    "▶ Segmentar los datos será necesario para poder entrenar y validar el modelo.<br>\n",
    "▶ Antes de calcular las ganancias potenciales, determinar los valores necesarios para evitar pérdidas, como el volumen mínimo de reservas.<br>\n",
    "▶ Seleccionar y modelar las predicciones de los 200 pozos principales en cada región, estimando así las ganancias potenciales.<br>\n",
    "▶ Utilizar bootstrapping para estimar las distribuciones de beneficios y calcular métricas de riesgo y ganancia para cada región.<br>\n",
    "▶ Analizar resultados y generar conclusiones sólidas sobre la mejor región para el desarrollo de pozos petrolíferos, respaldadas por datos detallados.\n",
    "</div>\n",
    "\n",
    "<div style=\"color: #196CC4;\"><br>\n",
    "<b>Procedimiento detallado:</b>\n",
    "<ol>\n",
    "<li>Inicialización y Análisis Exploratorio de Datos\n",
    "<ul>\n",
    "<li>Se importan las librerías, módulos y los 3 conjuntos de datos: geo_data_0.csv, geo_data_1.csv y geo_data_2.csv.</li>\n",
    "<li>Se realiza un análisis exploratorio de cada conjunto de datos, identificando correlaciones entre variables numéricas y categóricas, valores faltantes, duplicados y anomalías en la sintaxis.</li>\n",
    "<li>Se calculan estadísticas descriptivas para cada conjunto de datos.</li>\n",
    "<li>Se limpia la data eliminando la columna \"id\" que no es necesaria para el análisis.</li>\n",
    "</ul>\n",
    "</li>\n",
    "\n",
    "<li>Entrenamiento del Modelo\n",
    "<ul>\n",
    "<li>Se dividen los datos en conjuntos de entrenamiento y validación en una proporción de 3:1.</li>\n",
    "<li>Se utiliza regresión lineal para predecir el valor de la variable objetivo (precio).</li>\n",
    "<li>Se evalúa el desempeño del modelo utilizando el error cuadrático medio (RMSE).</li>\n",
    "<li>Se crea una función para automatizar el proceso de extracción de características, entrenamiento y evaluación del modelo.</li>\n",
    "<li>Se aplica la función a cada uno de los conjuntos de datos de los pozos petroleros.</li>\n",
    "<li>Se presentan los resultados y se identifican los hallazgos más relevantes, como el volumen promedio de reservas, el error RMSE y la región con mejor desempeño.</li>\n",
    "</ul>\n",
    "</li>\n",
    "\n",
    "<li>Preparación de Datos para Análisis de Rentabilidad\n",
    "<ul>\n",
    "<li>Se calcula el volumen promedio de reservas para cada región en el conjunto de validación.</li>\n",
    "<li>Se compara el volumen promedio con el volumen mínimo requerido para determinar la viabilidad económica de cada región.</li>\n",
    "</ul>\n",
    "</li>\n",
    "\n",
    "<li>Cálculo de Ganancias Potenciales\n",
    "<ul>\n",
    "<li>Se calculan las ganancias potenciales que se podrían obtener al desarrollar pozos petroleros en cada región.</li>\n",
    "<li>Se define una función para calcular las ganancias, considerando las predicciones del modelo y el precio por barril.</li>\n",
    "<li>Se ordenan las predicciones de forma descendente y se seleccionan los 200 pozos con mayor potencial.</li>\n",
    "<li>Se calculan los ingresos totales multiplicando el volumen total de reservas por el precio por barril.</li>\n",
    "<li>Se calculan las ganancias netas restando la inversión inicial.</li>\n",
    "</ul>\n",
    "</li>\n",
    "\n",
    "<li>Análisis de Riesgo y Retorno\n",
    "<ul>\n",
    "<li>Se utiliza el método de bootstrapping para estimar la distribución de las ganancias en cada región.</li>\n",
    "<li>Se calcula el beneficio promedio, el intervalo de confianza del 95% y el riesgo de pérdida para cada distribución.</li>\n",
    "</ul>\n",
    "</li>\n",
    "\n",
    "<li>Conclusiones\n",
    "<ul>\n",
    "<li>Se presenta un resumen de los resultados clave obtenidos para cada región.</li>\n",
    "<li>Se identifica la región más prometedora para el desarrollo de nuevos pozos petroleros, considerando los factores de riesgo y retorno.</li>\n",
    "</ul>\n",
    "</li>\n",
    "</ol>\n",
    "\n",
    "</div>"
   ]
  },
  {
   "cell_type": "markdown",
   "metadata": {},
   "source": [
    "-----"
   ]
  },
  {
   "cell_type": "markdown",
   "metadata": {},
   "source": [
    "## Información general"
   ]
  },
  {
   "cell_type": "markdown",
   "metadata": {},
   "source": [
    "### Inicialización"
   ]
  },
  {
   "cell_type": "code",
   "execution_count": 1,
   "metadata": {},
   "outputs": [],
   "source": [
    "# Data treatment\n",
    "import pandas as pd\n",
    "import numpy as np\n",
    "\n",
    "# Models\n",
    "from sklearn.linear_model import LinearRegression\n",
    "\n",
    "# Para separar cualquier conjunto de datos en dos: entrenamiento y prueba\n",
    "from sklearn.model_selection import train_test_split\n",
    "\n",
    "# mean squared error between predictions and true values\n",
    "from sklearn.metrics import mean_squared_error\n",
    "\n",
    "# confidence_interval\n",
    "from scipy import stats as st"
   ]
  },
  {
   "cell_type": "code",
   "execution_count": 2,
   "metadata": {},
   "outputs": [],
   "source": [
    "# Import data\n",
    "geo_0 = pd.read_csv('datasets/geo_data_0.csv')\n",
    "geo_1 = pd.read_csv('datasets/geo_data_1.csv')\n",
    "geo_2 = pd.read_csv('datasets/geo_data_2.csv')"
   ]
  },
  {
   "cell_type": "markdown",
   "metadata": {},
   "source": [
    "### Despliegue de dataset"
   ]
  },
  {
   "cell_type": "markdown",
   "metadata": {},
   "source": [
    "<div style=\"color: #196CC4;\">\n",
    "▶ Propiedades generales del Dataframe\n",
    "</div>"
   ]
  },
  {
   "cell_type": "code",
   "execution_count": 3,
   "metadata": {},
   "outputs": [
    {
     "name": "stdout",
     "output_type": "stream",
     "text": [
      "<class 'pandas.core.frame.DataFrame'>\n",
      "RangeIndex: 100000 entries, 0 to 99999\n",
      "Data columns (total 5 columns):\n",
      " #   Column   Non-Null Count   Dtype  \n",
      "---  ------   --------------   -----  \n",
      " 0   id       100000 non-null  object \n",
      " 1   f0       100000 non-null  float64\n",
      " 2   f1       100000 non-null  float64\n",
      " 3   f2       100000 non-null  float64\n",
      " 4   product  100000 non-null  float64\n",
      "dtypes: float64(4), object(1)\n",
      "memory usage: 3.8+ MB\n"
     ]
    }
   ],
   "source": [
    "# General Dataframe 1 properties\n",
    "geo_0.info()"
   ]
  },
  {
   "cell_type": "code",
   "execution_count": 4,
   "metadata": {},
   "outputs": [
    {
     "name": "stdout",
     "output_type": "stream",
     "text": [
      "<class 'pandas.core.frame.DataFrame'>\n",
      "RangeIndex: 100000 entries, 0 to 99999\n",
      "Data columns (total 5 columns):\n",
      " #   Column   Non-Null Count   Dtype  \n",
      "---  ------   --------------   -----  \n",
      " 0   id       100000 non-null  object \n",
      " 1   f0       100000 non-null  float64\n",
      " 2   f1       100000 non-null  float64\n",
      " 3   f2       100000 non-null  float64\n",
      " 4   product  100000 non-null  float64\n",
      "dtypes: float64(4), object(1)\n",
      "memory usage: 3.8+ MB\n"
     ]
    }
   ],
   "source": [
    "# General Dataframe 2 properties\n",
    "geo_1.info()"
   ]
  },
  {
   "cell_type": "code",
   "execution_count": 5,
   "metadata": {},
   "outputs": [
    {
     "name": "stdout",
     "output_type": "stream",
     "text": [
      "<class 'pandas.core.frame.DataFrame'>\n",
      "RangeIndex: 100000 entries, 0 to 99999\n",
      "Data columns (total 5 columns):\n",
      " #   Column   Non-Null Count   Dtype  \n",
      "---  ------   --------------   -----  \n",
      " 0   id       100000 non-null  object \n",
      " 1   f0       100000 non-null  float64\n",
      " 2   f1       100000 non-null  float64\n",
      " 3   f2       100000 non-null  float64\n",
      " 4   product  100000 non-null  float64\n",
      "dtypes: float64(4), object(1)\n",
      "memory usage: 3.8+ MB\n"
     ]
    }
   ],
   "source": [
    "# General Dataframe 3 properties\n",
    "geo_2.info()"
   ]
  },
  {
   "cell_type": "markdown",
   "metadata": {},
   "source": [
    "<div style=\"color: #196CC4;\">\n",
    "▶ Vistazo general del Dataframe\n",
    "</div>"
   ]
  },
  {
   "cell_type": "code",
   "execution_count": 6,
   "metadata": {},
   "outputs": [
    {
     "data": {
      "text/html": [
       "<div>\n",
       "<style scoped>\n",
       "    .dataframe tbody tr th:only-of-type {\n",
       "        vertical-align: middle;\n",
       "    }\n",
       "\n",
       "    .dataframe tbody tr th {\n",
       "        vertical-align: top;\n",
       "    }\n",
       "\n",
       "    .dataframe thead th {\n",
       "        text-align: right;\n",
       "    }\n",
       "</style>\n",
       "<table border=\"1\" class=\"dataframe\">\n",
       "  <thead>\n",
       "    <tr style=\"text-align: right;\">\n",
       "      <th></th>\n",
       "      <th>id</th>\n",
       "      <th>f0</th>\n",
       "      <th>f1</th>\n",
       "      <th>f2</th>\n",
       "      <th>product</th>\n",
       "    </tr>\n",
       "  </thead>\n",
       "  <tbody>\n",
       "    <tr>\n",
       "      <th>0</th>\n",
       "      <td>txEyH</td>\n",
       "      <td>0.705745</td>\n",
       "      <td>-0.497823</td>\n",
       "      <td>1.221170</td>\n",
       "      <td>105.280062</td>\n",
       "    </tr>\n",
       "    <tr>\n",
       "      <th>1</th>\n",
       "      <td>2acmU</td>\n",
       "      <td>1.334711</td>\n",
       "      <td>-0.340164</td>\n",
       "      <td>4.365080</td>\n",
       "      <td>73.037750</td>\n",
       "    </tr>\n",
       "    <tr>\n",
       "      <th>2</th>\n",
       "      <td>409Wp</td>\n",
       "      <td>1.022732</td>\n",
       "      <td>0.151990</td>\n",
       "      <td>1.419926</td>\n",
       "      <td>85.265647</td>\n",
       "    </tr>\n",
       "  </tbody>\n",
       "</table>\n",
       "</div>"
      ],
      "text/plain": [
       "      id        f0        f1        f2     product\n",
       "0  txEyH  0.705745 -0.497823  1.221170  105.280062\n",
       "1  2acmU  1.334711 -0.340164  4.365080   73.037750\n",
       "2  409Wp  1.022732  0.151990  1.419926   85.265647"
      ]
     },
     "metadata": {},
     "output_type": "display_data"
    },
    {
     "data": {
      "text/html": [
       "<div>\n",
       "<style scoped>\n",
       "    .dataframe tbody tr th:only-of-type {\n",
       "        vertical-align: middle;\n",
       "    }\n",
       "\n",
       "    .dataframe tbody tr th {\n",
       "        vertical-align: top;\n",
       "    }\n",
       "\n",
       "    .dataframe thead th {\n",
       "        text-align: right;\n",
       "    }\n",
       "</style>\n",
       "<table border=\"1\" class=\"dataframe\">\n",
       "  <thead>\n",
       "    <tr style=\"text-align: right;\">\n",
       "      <th></th>\n",
       "      <th>id</th>\n",
       "      <th>f0</th>\n",
       "      <th>f1</th>\n",
       "      <th>f2</th>\n",
       "      <th>product</th>\n",
       "    </tr>\n",
       "  </thead>\n",
       "  <tbody>\n",
       "    <tr>\n",
       "      <th>0</th>\n",
       "      <td>kBEdx</td>\n",
       "      <td>-15.001348</td>\n",
       "      <td>-8.276000</td>\n",
       "      <td>-0.005876</td>\n",
       "      <td>3.179103</td>\n",
       "    </tr>\n",
       "    <tr>\n",
       "      <th>1</th>\n",
       "      <td>62mP7</td>\n",
       "      <td>14.272088</td>\n",
       "      <td>-3.475083</td>\n",
       "      <td>0.999183</td>\n",
       "      <td>26.953261</td>\n",
       "    </tr>\n",
       "    <tr>\n",
       "      <th>2</th>\n",
       "      <td>vyE1P</td>\n",
       "      <td>6.263187</td>\n",
       "      <td>-5.948386</td>\n",
       "      <td>5.001160</td>\n",
       "      <td>134.766305</td>\n",
       "    </tr>\n",
       "  </tbody>\n",
       "</table>\n",
       "</div>"
      ],
      "text/plain": [
       "      id         f0        f1        f2     product\n",
       "0  kBEdx -15.001348 -8.276000 -0.005876    3.179103\n",
       "1  62mP7  14.272088 -3.475083  0.999183   26.953261\n",
       "2  vyE1P   6.263187 -5.948386  5.001160  134.766305"
      ]
     },
     "metadata": {},
     "output_type": "display_data"
    },
    {
     "data": {
      "text/html": [
       "<div>\n",
       "<style scoped>\n",
       "    .dataframe tbody tr th:only-of-type {\n",
       "        vertical-align: middle;\n",
       "    }\n",
       "\n",
       "    .dataframe tbody tr th {\n",
       "        vertical-align: top;\n",
       "    }\n",
       "\n",
       "    .dataframe thead th {\n",
       "        text-align: right;\n",
       "    }\n",
       "</style>\n",
       "<table border=\"1\" class=\"dataframe\">\n",
       "  <thead>\n",
       "    <tr style=\"text-align: right;\">\n",
       "      <th></th>\n",
       "      <th>id</th>\n",
       "      <th>f0</th>\n",
       "      <th>f1</th>\n",
       "      <th>f2</th>\n",
       "      <th>product</th>\n",
       "    </tr>\n",
       "  </thead>\n",
       "  <tbody>\n",
       "    <tr>\n",
       "      <th>0</th>\n",
       "      <td>fwXo0</td>\n",
       "      <td>-1.146987</td>\n",
       "      <td>0.963328</td>\n",
       "      <td>-0.828965</td>\n",
       "      <td>27.758673</td>\n",
       "    </tr>\n",
       "    <tr>\n",
       "      <th>1</th>\n",
       "      <td>WJtFt</td>\n",
       "      <td>0.262778</td>\n",
       "      <td>0.269839</td>\n",
       "      <td>-2.530187</td>\n",
       "      <td>56.069697</td>\n",
       "    </tr>\n",
       "    <tr>\n",
       "      <th>2</th>\n",
       "      <td>ovLUW</td>\n",
       "      <td>0.194587</td>\n",
       "      <td>0.289035</td>\n",
       "      <td>-5.586433</td>\n",
       "      <td>62.871910</td>\n",
       "    </tr>\n",
       "  </tbody>\n",
       "</table>\n",
       "</div>"
      ],
      "text/plain": [
       "      id        f0        f1        f2    product\n",
       "0  fwXo0 -1.146987  0.963328 -0.828965  27.758673\n",
       "1  WJtFt  0.262778  0.269839 -2.530187  56.069697\n",
       "2  ovLUW  0.194587  0.289035 -5.586433  62.871910"
      ]
     },
     "metadata": {},
     "output_type": "display_data"
    }
   ],
   "source": [
    "# General data overview\n",
    "display(geo_0.head(3))\n",
    "display(geo_1.head(3))\n",
    "display(geo_2.head(3))"
   ]
  },
  {
   "cell_type": "markdown",
   "metadata": {},
   "source": [
    "<div style=\"color: #196CC4;\">\n",
    "▶ Verificación de valores duplicados.\n",
    "</div>"
   ]
  },
  {
   "cell_type": "code",
   "execution_count": 7,
   "metadata": {},
   "outputs": [
    {
     "name": "stdout",
     "output_type": "stream",
     "text": [
      "Total de valores duplicados en geo_0: 0\n",
      "Total de valores duplicados en geo_1: 0\n",
      "Total de valores duplicados en geo_2: 0\n"
     ]
    }
   ],
   "source": [
    "# Duplicated values\n",
    "geo_0_duplicates = geo_0.duplicated()\n",
    "geo_1_duplicates = geo_1.duplicated()\n",
    "geo_2_duplicates = geo_2.duplicated()\n",
    "\n",
    "# Sum of duplicated values\n",
    "total_geo_0_duplicates = geo_0_duplicates.sum()\n",
    "total_geo_1_duplicates = geo_1_duplicates.sum()\n",
    "total_geo_2_duplicates = geo_2_duplicates.sum()\n",
    "\n",
    "# Duplicated rows\n",
    "geo_0_duplicates_rows = geo_0[geo_0_duplicates]\n",
    "geo_1_duplicates_rows = geo_1[geo_1_duplicates]\n",
    "geo_2_duplicates_rows = geo_2[geo_2_duplicates]\n",
    "\n",
    "# Display data\n",
    "print(\"Total de valores duplicados en geo_0:\", total_geo_0_duplicates)\n",
    "print(\"Total de valores duplicados en geo_1:\", total_geo_1_duplicates)\n",
    "print(\"Total de valores duplicados en geo_2:\", total_geo_2_duplicates)\n"
   ]
  },
  {
   "cell_type": "markdown",
   "metadata": {},
   "source": [
    "<div style=\"color: #196CC4;\">\n",
    "▶ Estadísticas descriptivas para los datos numéricos.\n",
    "</div>"
   ]
  },
  {
   "cell_type": "code",
   "execution_count": 8,
   "metadata": {},
   "outputs": [
    {
     "data": {
      "text/html": [
       "<div>\n",
       "<style scoped>\n",
       "    .dataframe tbody tr th:only-of-type {\n",
       "        vertical-align: middle;\n",
       "    }\n",
       "\n",
       "    .dataframe tbody tr th {\n",
       "        vertical-align: top;\n",
       "    }\n",
       "\n",
       "    .dataframe thead th {\n",
       "        text-align: right;\n",
       "    }\n",
       "</style>\n",
       "<table border=\"1\" class=\"dataframe\">\n",
       "  <thead>\n",
       "    <tr style=\"text-align: right;\">\n",
       "      <th></th>\n",
       "      <th>f0</th>\n",
       "      <th>f1</th>\n",
       "      <th>f2</th>\n",
       "      <th>product</th>\n",
       "    </tr>\n",
       "  </thead>\n",
       "  <tbody>\n",
       "    <tr>\n",
       "      <th>count</th>\n",
       "      <td>100000.000000</td>\n",
       "      <td>100000.000000</td>\n",
       "      <td>100000.000000</td>\n",
       "      <td>100000.000000</td>\n",
       "    </tr>\n",
       "    <tr>\n",
       "      <th>mean</th>\n",
       "      <td>0.500419</td>\n",
       "      <td>0.250143</td>\n",
       "      <td>2.502647</td>\n",
       "      <td>92.500000</td>\n",
       "    </tr>\n",
       "    <tr>\n",
       "      <th>std</th>\n",
       "      <td>0.871832</td>\n",
       "      <td>0.504433</td>\n",
       "      <td>3.248248</td>\n",
       "      <td>44.288691</td>\n",
       "    </tr>\n",
       "    <tr>\n",
       "      <th>min</th>\n",
       "      <td>-1.408605</td>\n",
       "      <td>-0.848218</td>\n",
       "      <td>-12.088328</td>\n",
       "      <td>0.000000</td>\n",
       "    </tr>\n",
       "    <tr>\n",
       "      <th>25%</th>\n",
       "      <td>-0.072580</td>\n",
       "      <td>-0.200881</td>\n",
       "      <td>0.287748</td>\n",
       "      <td>56.497507</td>\n",
       "    </tr>\n",
       "    <tr>\n",
       "      <th>50%</th>\n",
       "      <td>0.502360</td>\n",
       "      <td>0.250252</td>\n",
       "      <td>2.515969</td>\n",
       "      <td>91.849972</td>\n",
       "    </tr>\n",
       "    <tr>\n",
       "      <th>75%</th>\n",
       "      <td>1.073581</td>\n",
       "      <td>0.700646</td>\n",
       "      <td>4.715088</td>\n",
       "      <td>128.564089</td>\n",
       "    </tr>\n",
       "    <tr>\n",
       "      <th>max</th>\n",
       "      <td>2.362331</td>\n",
       "      <td>1.343769</td>\n",
       "      <td>16.003790</td>\n",
       "      <td>185.364347</td>\n",
       "    </tr>\n",
       "  </tbody>\n",
       "</table>\n",
       "</div>"
      ],
      "text/plain": [
       "                  f0             f1             f2        product\n",
       "count  100000.000000  100000.000000  100000.000000  100000.000000\n",
       "mean        0.500419       0.250143       2.502647      92.500000\n",
       "std         0.871832       0.504433       3.248248      44.288691\n",
       "min        -1.408605      -0.848218     -12.088328       0.000000\n",
       "25%        -0.072580      -0.200881       0.287748      56.497507\n",
       "50%         0.502360       0.250252       2.515969      91.849972\n",
       "75%         1.073581       0.700646       4.715088     128.564089\n",
       "max         2.362331       1.343769      16.003790     185.364347"
      ]
     },
     "execution_count": 8,
     "metadata": {},
     "output_type": "execute_result"
    }
   ],
   "source": [
    "# Descriptive statistics\n",
    "geo_0.describe()"
   ]
  },
  {
   "cell_type": "code",
   "execution_count": 9,
   "metadata": {},
   "outputs": [
    {
     "data": {
      "text/html": [
       "<div>\n",
       "<style scoped>\n",
       "    .dataframe tbody tr th:only-of-type {\n",
       "        vertical-align: middle;\n",
       "    }\n",
       "\n",
       "    .dataframe tbody tr th {\n",
       "        vertical-align: top;\n",
       "    }\n",
       "\n",
       "    .dataframe thead th {\n",
       "        text-align: right;\n",
       "    }\n",
       "</style>\n",
       "<table border=\"1\" class=\"dataframe\">\n",
       "  <thead>\n",
       "    <tr style=\"text-align: right;\">\n",
       "      <th></th>\n",
       "      <th>f0</th>\n",
       "      <th>f1</th>\n",
       "      <th>f2</th>\n",
       "      <th>product</th>\n",
       "    </tr>\n",
       "  </thead>\n",
       "  <tbody>\n",
       "    <tr>\n",
       "      <th>count</th>\n",
       "      <td>100000.000000</td>\n",
       "      <td>100000.000000</td>\n",
       "      <td>100000.000000</td>\n",
       "      <td>100000.000000</td>\n",
       "    </tr>\n",
       "    <tr>\n",
       "      <th>mean</th>\n",
       "      <td>1.141296</td>\n",
       "      <td>-4.796579</td>\n",
       "      <td>2.494541</td>\n",
       "      <td>68.825000</td>\n",
       "    </tr>\n",
       "    <tr>\n",
       "      <th>std</th>\n",
       "      <td>8.965932</td>\n",
       "      <td>5.119872</td>\n",
       "      <td>1.703572</td>\n",
       "      <td>45.944423</td>\n",
       "    </tr>\n",
       "    <tr>\n",
       "      <th>min</th>\n",
       "      <td>-31.609576</td>\n",
       "      <td>-26.358598</td>\n",
       "      <td>-0.018144</td>\n",
       "      <td>0.000000</td>\n",
       "    </tr>\n",
       "    <tr>\n",
       "      <th>25%</th>\n",
       "      <td>-6.298551</td>\n",
       "      <td>-8.267985</td>\n",
       "      <td>1.000021</td>\n",
       "      <td>26.953261</td>\n",
       "    </tr>\n",
       "    <tr>\n",
       "      <th>50%</th>\n",
       "      <td>1.153055</td>\n",
       "      <td>-4.813172</td>\n",
       "      <td>2.011479</td>\n",
       "      <td>57.085625</td>\n",
       "    </tr>\n",
       "    <tr>\n",
       "      <th>75%</th>\n",
       "      <td>8.621015</td>\n",
       "      <td>-1.332816</td>\n",
       "      <td>3.999904</td>\n",
       "      <td>107.813044</td>\n",
       "    </tr>\n",
       "    <tr>\n",
       "      <th>max</th>\n",
       "      <td>29.421755</td>\n",
       "      <td>18.734063</td>\n",
       "      <td>5.019721</td>\n",
       "      <td>137.945408</td>\n",
       "    </tr>\n",
       "  </tbody>\n",
       "</table>\n",
       "</div>"
      ],
      "text/plain": [
       "                  f0             f1             f2        product\n",
       "count  100000.000000  100000.000000  100000.000000  100000.000000\n",
       "mean        1.141296      -4.796579       2.494541      68.825000\n",
       "std         8.965932       5.119872       1.703572      45.944423\n",
       "min       -31.609576     -26.358598      -0.018144       0.000000\n",
       "25%        -6.298551      -8.267985       1.000021      26.953261\n",
       "50%         1.153055      -4.813172       2.011479      57.085625\n",
       "75%         8.621015      -1.332816       3.999904     107.813044\n",
       "max        29.421755      18.734063       5.019721     137.945408"
      ]
     },
     "execution_count": 9,
     "metadata": {},
     "output_type": "execute_result"
    }
   ],
   "source": [
    "# Descriptive statistics\n",
    "geo_1.describe()"
   ]
  },
  {
   "cell_type": "code",
   "execution_count": 10,
   "metadata": {},
   "outputs": [
    {
     "data": {
      "text/html": [
       "<div>\n",
       "<style scoped>\n",
       "    .dataframe tbody tr th:only-of-type {\n",
       "        vertical-align: middle;\n",
       "    }\n",
       "\n",
       "    .dataframe tbody tr th {\n",
       "        vertical-align: top;\n",
       "    }\n",
       "\n",
       "    .dataframe thead th {\n",
       "        text-align: right;\n",
       "    }\n",
       "</style>\n",
       "<table border=\"1\" class=\"dataframe\">\n",
       "  <thead>\n",
       "    <tr style=\"text-align: right;\">\n",
       "      <th></th>\n",
       "      <th>f0</th>\n",
       "      <th>f1</th>\n",
       "      <th>f2</th>\n",
       "      <th>product</th>\n",
       "    </tr>\n",
       "  </thead>\n",
       "  <tbody>\n",
       "    <tr>\n",
       "      <th>count</th>\n",
       "      <td>100000.000000</td>\n",
       "      <td>100000.000000</td>\n",
       "      <td>100000.000000</td>\n",
       "      <td>100000.000000</td>\n",
       "    </tr>\n",
       "    <tr>\n",
       "      <th>mean</th>\n",
       "      <td>0.002023</td>\n",
       "      <td>-0.002081</td>\n",
       "      <td>2.495128</td>\n",
       "      <td>95.000000</td>\n",
       "    </tr>\n",
       "    <tr>\n",
       "      <th>std</th>\n",
       "      <td>1.732045</td>\n",
       "      <td>1.730417</td>\n",
       "      <td>3.473445</td>\n",
       "      <td>44.749921</td>\n",
       "    </tr>\n",
       "    <tr>\n",
       "      <th>min</th>\n",
       "      <td>-8.760004</td>\n",
       "      <td>-7.084020</td>\n",
       "      <td>-11.970335</td>\n",
       "      <td>0.000000</td>\n",
       "    </tr>\n",
       "    <tr>\n",
       "      <th>25%</th>\n",
       "      <td>-1.162288</td>\n",
       "      <td>-1.174820</td>\n",
       "      <td>0.130359</td>\n",
       "      <td>59.450441</td>\n",
       "    </tr>\n",
       "    <tr>\n",
       "      <th>50%</th>\n",
       "      <td>0.009424</td>\n",
       "      <td>-0.009482</td>\n",
       "      <td>2.484236</td>\n",
       "      <td>94.925613</td>\n",
       "    </tr>\n",
       "    <tr>\n",
       "      <th>75%</th>\n",
       "      <td>1.158535</td>\n",
       "      <td>1.163678</td>\n",
       "      <td>4.858794</td>\n",
       "      <td>130.595027</td>\n",
       "    </tr>\n",
       "    <tr>\n",
       "      <th>max</th>\n",
       "      <td>7.238262</td>\n",
       "      <td>7.844801</td>\n",
       "      <td>16.739402</td>\n",
       "      <td>190.029838</td>\n",
       "    </tr>\n",
       "  </tbody>\n",
       "</table>\n",
       "</div>"
      ],
      "text/plain": [
       "                  f0             f1             f2        product\n",
       "count  100000.000000  100000.000000  100000.000000  100000.000000\n",
       "mean        0.002023      -0.002081       2.495128      95.000000\n",
       "std         1.732045       1.730417       3.473445      44.749921\n",
       "min        -8.760004      -7.084020     -11.970335       0.000000\n",
       "25%        -1.162288      -1.174820       0.130359      59.450441\n",
       "50%         0.009424      -0.009482       2.484236      94.925613\n",
       "75%         1.158535       1.163678       4.858794     130.595027\n",
       "max         7.238262       7.844801      16.739402     190.029838"
      ]
     },
     "execution_count": 10,
     "metadata": {},
     "output_type": "execute_result"
    }
   ],
   "source": [
    "# Descriptive statistics\n",
    "geo_2.describe()"
   ]
  },
  {
   "cell_type": "markdown",
   "metadata": {},
   "source": [
    "### Observaciones iniciales"
   ]
  },
  {
   "cell_type": "markdown",
   "metadata": {},
   "source": [
    "<div style=\"color: #196CC4;\">\n",
    "<b>Observaciones iniciales:</b><br>\n",
    "▶ Los nombres de las series empiezan con minúsculas, lo que facilitará trabajar con ellas<br>\n",
    "▶ No hay valores ausentes en ninguno de los datasets<br>\n",
    "▶ No hay filas duplicadas<br>\n",
    "▶ Los tipos de datos son adecuados, ya que la primera serie contiene letras y el resto datos flotantes<br>\n",
    "▶ La columna \"id\" es irrelevante para el propósito de este proyecto<br>    \n",
    "▶ Los detalles del Dataframe se muestran limpios y listos para trabajar\n",
    "</div>"
   ]
  },
  {
   "cell_type": "markdown",
   "metadata": {},
   "source": [
    "-----"
   ]
  },
  {
   "cell_type": "markdown",
   "metadata": {},
   "source": [
    "## Análisis Exploratorio de Datos (EDA)"
   ]
  },
  {
   "cell_type": "markdown",
   "metadata": {},
   "source": [
    "### Limpieza de datos"
   ]
  },
  {
   "cell_type": "markdown",
   "metadata": {},
   "source": [
    "<div style=\"color: #196CC4;\">\n",
    "▶ Se sugiere eliminar la columna \"id\", ya que no es información de valor y es una serie de tipo \"object\"\n",
    "</div>"
   ]
  },
  {
   "cell_type": "code",
   "execution_count": 11,
   "metadata": {},
   "outputs": [],
   "source": [
    "geo_0 = geo_0.drop('id', axis=1)\n",
    "geo_1 = geo_1.drop('id', axis=1)\n",
    "geo_2 = geo_2.drop('id', axis=1)"
   ]
  },
  {
   "cell_type": "markdown",
   "metadata": {},
   "source": [
    "### Despliegue de información"
   ]
  },
  {
   "cell_type": "markdown",
   "metadata": {},
   "source": [
    "<div style=\"color: #196CC4;\">\n",
    "▶ A continuación verifico los cambios realizados en las propiedades de los 3 DataFrames y su previsualización.<br>\n",
    "</div>"
   ]
  },
  {
   "cell_type": "code",
   "execution_count": 12,
   "metadata": {},
   "outputs": [
    {
     "data": {
      "text/html": [
       "<div>\n",
       "<style scoped>\n",
       "    .dataframe tbody tr th:only-of-type {\n",
       "        vertical-align: middle;\n",
       "    }\n",
       "\n",
       "    .dataframe tbody tr th {\n",
       "        vertical-align: top;\n",
       "    }\n",
       "\n",
       "    .dataframe thead th {\n",
       "        text-align: right;\n",
       "    }\n",
       "</style>\n",
       "<table border=\"1\" class=\"dataframe\">\n",
       "  <thead>\n",
       "    <tr style=\"text-align: right;\">\n",
       "      <th></th>\n",
       "      <th>f0</th>\n",
       "      <th>f1</th>\n",
       "      <th>f2</th>\n",
       "      <th>product</th>\n",
       "    </tr>\n",
       "  </thead>\n",
       "  <tbody>\n",
       "    <tr>\n",
       "      <th>0</th>\n",
       "      <td>0.705745</td>\n",
       "      <td>-0.497823</td>\n",
       "      <td>1.221170</td>\n",
       "      <td>105.280062</td>\n",
       "    </tr>\n",
       "    <tr>\n",
       "      <th>1</th>\n",
       "      <td>1.334711</td>\n",
       "      <td>-0.340164</td>\n",
       "      <td>4.365080</td>\n",
       "      <td>73.037750</td>\n",
       "    </tr>\n",
       "    <tr>\n",
       "      <th>2</th>\n",
       "      <td>1.022732</td>\n",
       "      <td>0.151990</td>\n",
       "      <td>1.419926</td>\n",
       "      <td>85.265647</td>\n",
       "    </tr>\n",
       "  </tbody>\n",
       "</table>\n",
       "</div>"
      ],
      "text/plain": [
       "         f0        f1        f2     product\n",
       "0  0.705745 -0.497823  1.221170  105.280062\n",
       "1  1.334711 -0.340164  4.365080   73.037750\n",
       "2  1.022732  0.151990  1.419926   85.265647"
      ]
     },
     "metadata": {},
     "output_type": "display_data"
    },
    {
     "data": {
      "text/html": [
       "<div>\n",
       "<style scoped>\n",
       "    .dataframe tbody tr th:only-of-type {\n",
       "        vertical-align: middle;\n",
       "    }\n",
       "\n",
       "    .dataframe tbody tr th {\n",
       "        vertical-align: top;\n",
       "    }\n",
       "\n",
       "    .dataframe thead th {\n",
       "        text-align: right;\n",
       "    }\n",
       "</style>\n",
       "<table border=\"1\" class=\"dataframe\">\n",
       "  <thead>\n",
       "    <tr style=\"text-align: right;\">\n",
       "      <th></th>\n",
       "      <th>f0</th>\n",
       "      <th>f1</th>\n",
       "      <th>f2</th>\n",
       "      <th>product</th>\n",
       "    </tr>\n",
       "  </thead>\n",
       "  <tbody>\n",
       "    <tr>\n",
       "      <th>0</th>\n",
       "      <td>-15.001348</td>\n",
       "      <td>-8.276000</td>\n",
       "      <td>-0.005876</td>\n",
       "      <td>3.179103</td>\n",
       "    </tr>\n",
       "    <tr>\n",
       "      <th>1</th>\n",
       "      <td>14.272088</td>\n",
       "      <td>-3.475083</td>\n",
       "      <td>0.999183</td>\n",
       "      <td>26.953261</td>\n",
       "    </tr>\n",
       "    <tr>\n",
       "      <th>2</th>\n",
       "      <td>6.263187</td>\n",
       "      <td>-5.948386</td>\n",
       "      <td>5.001160</td>\n",
       "      <td>134.766305</td>\n",
       "    </tr>\n",
       "  </tbody>\n",
       "</table>\n",
       "</div>"
      ],
      "text/plain": [
       "          f0        f1        f2     product\n",
       "0 -15.001348 -8.276000 -0.005876    3.179103\n",
       "1  14.272088 -3.475083  0.999183   26.953261\n",
       "2   6.263187 -5.948386  5.001160  134.766305"
      ]
     },
     "metadata": {},
     "output_type": "display_data"
    },
    {
     "data": {
      "text/html": [
       "<div>\n",
       "<style scoped>\n",
       "    .dataframe tbody tr th:only-of-type {\n",
       "        vertical-align: middle;\n",
       "    }\n",
       "\n",
       "    .dataframe tbody tr th {\n",
       "        vertical-align: top;\n",
       "    }\n",
       "\n",
       "    .dataframe thead th {\n",
       "        text-align: right;\n",
       "    }\n",
       "</style>\n",
       "<table border=\"1\" class=\"dataframe\">\n",
       "  <thead>\n",
       "    <tr style=\"text-align: right;\">\n",
       "      <th></th>\n",
       "      <th>f0</th>\n",
       "      <th>f1</th>\n",
       "      <th>f2</th>\n",
       "      <th>product</th>\n",
       "    </tr>\n",
       "  </thead>\n",
       "  <tbody>\n",
       "    <tr>\n",
       "      <th>0</th>\n",
       "      <td>-1.146987</td>\n",
       "      <td>0.963328</td>\n",
       "      <td>-0.828965</td>\n",
       "      <td>27.758673</td>\n",
       "    </tr>\n",
       "    <tr>\n",
       "      <th>1</th>\n",
       "      <td>0.262778</td>\n",
       "      <td>0.269839</td>\n",
       "      <td>-2.530187</td>\n",
       "      <td>56.069697</td>\n",
       "    </tr>\n",
       "    <tr>\n",
       "      <th>2</th>\n",
       "      <td>0.194587</td>\n",
       "      <td>0.289035</td>\n",
       "      <td>-5.586433</td>\n",
       "      <td>62.871910</td>\n",
       "    </tr>\n",
       "  </tbody>\n",
       "</table>\n",
       "</div>"
      ],
      "text/plain": [
       "         f0        f1        f2    product\n",
       "0 -1.146987  0.963328 -0.828965  27.758673\n",
       "1  0.262778  0.269839 -2.530187  56.069697\n",
       "2  0.194587  0.289035 -5.586433  62.871910"
      ]
     },
     "metadata": {},
     "output_type": "display_data"
    }
   ],
   "source": [
    "# General data overview\n",
    "display(geo_0.head(3))\n",
    "display(geo_1.head(3))\n",
    "display(geo_2.head(3))"
   ]
  },
  {
   "cell_type": "markdown",
   "metadata": {},
   "source": [
    "-----"
   ]
  },
  {
   "cell_type": "markdown",
   "metadata": {},
   "source": [
    "## Entrenamiento"
   ]
  },
  {
   "cell_type": "markdown",
   "metadata": {},
   "source": [
    "### Procedimiento"
   ]
  },
  {
   "cell_type": "markdown",
   "metadata": {},
   "source": [
    "<div style=\"color: #196CC4;\">\n",
    "<b>A continuación se dividen los datos fuente de la siguiente manera para llegar a una proporción de 3:1:</b><br><br>\n",
    "▶ 75% Dataset para el entrenamiento<br>\n",
    "▶ 25% Dataset de validación<br>\n",
    "▶ Cuanto más grande sea el conjunto de entrenamiento, más datos tendrá el modelo para aprender patrones y relaciones en los datos. Por otro lado el dataset de validación servirá para evaluar el rendimiento del modelo.<br>\n",
    "    \n",
    "<b>Regresión lineal:</b><br><br>\n",
    "▶ La regresión lineal es predecir o explicar el valor medio de la variable dependiente en función de las variables independientes.<br>\n",
    "▶ Para este modelo, \"y\" es el objetivo, una variable dependiente que queremos encontrar. En este caso, es el precio. \"x\" es la característica, una variable independiente que define a la dependiente.<br>\n",
    "    \n",
    "<b>RMSE:</b><br>  \n",
    "▶ RMSE significa \"Root Mean Square Error\" (Error Cuadrático Medio). Es una medida comúnmente utilizada para evaluar la precisión de un modelo de regresión. <br>\n",
    "▶ Un RMSE de 0 indicaría que el modelo predice perfectamente los valores observados, lo cual es poco común en la práctica.<br>\n",
    "▶ En términos generales, el valor del RMSE puede variar desde 0 hasta el mismo rango de los valores observados en los datos. Por ejemplo, si los valores observados están en el rango de 0 a 100, el RMSE podría variar desde 0 hasta 100.<br>\n",
    "</div>"
   ]
  },
  {
   "cell_type": "markdown",
   "metadata": {},
   "source": [
    "### Función de ejecución"
   ]
  },
  {
   "cell_type": "code",
   "execution_count": 13,
   "metadata": {},
   "outputs": [],
   "source": [
    "def geo_training(dataset):\n",
    "    # Data division\n",
    "    df_train, df_valid = train_test_split(dataset, test_size=0.25, random_state=12345)\n",
    "\n",
    "    # Extract features and target variables from the training and validation sets\n",
    "    X_train = df_train.drop(['product'], axis=1)\n",
    "    y_train = df_train['product']\n",
    "\n",
    "    X_val = df_valid.drop(['product'], axis=1)\n",
    "    y_val = df_valid['product']\n",
    "    \n",
    "    # Training\n",
    "    model = LinearRegression()\n",
    "    model.fit(X_train, y_train)\n",
    "    \n",
    "    # Predict \n",
    "    #predict = pd.Series(model.predict(X_val))\n",
    "    predict = model.predict(X_val)\n",
    "    \n",
    "    #Mean on prediction\n",
    "    mean_volume = np.mean(predict)\n",
    "    \n",
    "    # RMSE\n",
    "    rmse = np.sqrt(mean_squared_error(y_val, predict))\n",
    "    \n",
    "    return {'rmse': rmse, 'predictions': predict, 'mean_volume': mean_volume, 'real_values': y_val}\n",
    "    # Print\n",
    "    #print(\"Dataset:\", dataset)"
   ]
  },
  {
   "cell_type": "code",
   "execution_count": 14,
   "metadata": {},
   "outputs": [],
   "source": [
    "# Function call + Variables\n",
    "results_geo_0 = geo_training(geo_0)\n",
    "results_geo_1 = geo_training(geo_1)\n",
    "results_geo_2 = geo_training(geo_2)"
   ]
  },
  {
   "cell_type": "markdown",
   "metadata": {},
   "source": [
    "### Despliegue de resultados"
   ]
  },
  {
   "cell_type": "markdown",
   "metadata": {},
   "source": [
    "<div style=\"color: #196CC4;\">\n",
    "▶ Almacenar todos los valores necesarios para los cálculos en variables separadas:\n",
    "Ya hemos calculado el volumen medio de reservas predicho (mean_volume) y el RMSE del modelo (rmse) para cada región. Estos valores son importantes para nuestros cálculos posteriores y los hemos almacenado como variables en nuestro código.</div>"
   ]
  },
  {
   "cell_type": "code",
   "execution_count": 15,
   "metadata": {},
   "outputs": [
    {
     "name": "stdout",
     "output_type": "stream",
     "text": [
      "PREDICCIONES PARA REGIÓN 0 <geo_0>\n",
      "- Volumen promedio de reservas: 92.59256778438035\n",
      "- RMSE: 37.5794217150813\n",
      "- Predictions: [ 95.89495185  77.57258261  77.89263965 ...  61.50983303 118.18039721\n",
      " 118.16939229]\n",
      "\n",
      "PREDICCIONES PARA REGIÓN 1 <geo_1>\n",
      "- Volumen promedio de reservas: 68.728546895446\n",
      "- RMSE: 0.8930992867756165\n",
      "- Predictions: [ 82.66331365  54.43178616  29.74875995 ... 137.87934053  83.76196568\n",
      "  53.95846638]\n",
      "\n",
      "PREDICCIONES PARA REGIÓN 2 <geo_2>\n",
      "- Volumen promedio de reservas: 94.96504596800489\n",
      "- RMSE: 40.02970873393434\n",
      "- Predictions: [ 93.59963303  75.10515854  90.06680936 ...  99.40728116  77.77991248\n",
      " 129.03241718]\n",
      "\n"
     ]
    }
   ],
   "source": [
    "# geo_0 - Data\n",
    "print(\"PREDICCIONES PARA REGIÓN 0 <geo_0>\")\n",
    "print(\"- Volumen promedio de reservas:\", results_geo_0['mean_volume'])\n",
    "print(\"- RMSE:\", results_geo_0['rmse'])\n",
    "print(\"- Predictions:\", results_geo_0['predictions'])\n",
    "print()\n",
    "\n",
    "# geo_1 - Data\n",
    "print(\"PREDICCIONES PARA REGIÓN 1 <geo_1>\")\n",
    "print(\"- Volumen promedio de reservas:\", results_geo_1['mean_volume'])\n",
    "print(\"- RMSE:\", results_geo_1['rmse'])\n",
    "print(\"- Predictions:\", results_geo_1['predictions'])\n",
    "print()\n",
    "\n",
    "# geo_2 - Data\n",
    "print(\"PREDICCIONES PARA REGIÓN 2 <geo_2>\")\n",
    "print(\"- Volumen promedio de reservas:\", results_geo_2['mean_volume'])\n",
    "print(\"- RMSE:\", results_geo_2['rmse'])\n",
    "print(\"- Predictions:\", results_geo_2['predictions'])\n",
    "print()"
   ]
  },
  {
   "cell_type": "markdown",
   "metadata": {},
   "source": [
    "### Hallazgos"
   ]
  },
  {
   "cell_type": "markdown",
   "metadata": {},
   "source": [
    "<div style=\"color: #196CC4;\">\n",
    "<b>Volumen promedio</b><br>\n",
    "▶ La región 2 tiene el volumen promedio de reservas más alto, seguida de la región 0 y 1.<br>\n",
    "▶ Hay una importante diferencia entre el volumen promedio de reservas de la región 1 y las otras dos regiones.<br><br>\n",
    "<b>RMSE</b><br>\n",
    "▶ La región 1 tiene el RMSE más bajo, por lo que hay un mejor ajuste a los datos de esa región en comparación con las otras dos regiones.<br>\n",
    "▶ La región 0 y la región 2 tienen valores de RMSE más altos, por lo que las predicciones no son tan precisas en esas regiones.<br><br>\n",
    "<b>La región 1, aunque tiene un volumen promedio de reservas más bajo, tiene un RMSE significativamente más bajo, lo que indica un mejor rendimiento del modelo en esa región.</b> <br>\n",
    "\n",
    "</div>\n"
   ]
  },
  {
   "cell_type": "markdown",
   "metadata": {},
   "source": [
    "-----"
   ]
  },
  {
   "cell_type": "markdown",
   "metadata": {},
   "source": [
    "## Preparación de datos"
   ]
  },
  {
   "cell_type": "markdown",
   "metadata": {},
   "source": [
    "### Procedimiento"
   ]
  },
  {
   "cell_type": "markdown",
   "metadata": {},
   "source": [
    "<div style=\"color: #196CC4;\">\n",
    "▶ Ya hemos calculado el volumen medio de reservas predicho (mean_volume) y el RMSE del modelo (rmse) para cada región.<br>\n",
    "▶ Dado que el valor mínimo necesario para evitar pérdidas por pozo es de 500,000 dólares en ingresos, lo cual equivale a 111.1 unidades, valor que podremos comparar con el volumen medio de reservas predicho para cada región.<br>\n",
    "</div>"
   ]
  },
  {
   "cell_type": "markdown",
   "metadata": {},
   "source": [
    "### Definición de variables"
   ]
  },
  {
   "cell_type": "markdown",
   "metadata": {},
   "source": [
    "<div style=\"color: #196CC4;\">\n",
    "▶ A continuación se muestran las variables que se utilizarán para calcular el beneficio más adelante. Estas variables se muestran el la descripción inicial del proyecto.</div>"
   ]
  },
  {
   "cell_type": "code",
   "execution_count": 16,
   "metadata": {},
   "outputs": [
    {
     "name": "stdout",
     "output_type": "stream",
     "text": [
      "Unidades mínimas para evitar pérdidas 111.11111111111111\n"
     ]
    }
   ],
   "source": [
    "# Variables\n",
    "investment_money = 100_000_000\n",
    "investment_wells = 200\n",
    "well_min_profit = 500_000  \n",
    "barrel_profit = 4.5\n",
    "revenue_per_unit = 4_500\n",
    "\n",
    "well_min_reserve = (well_min_profit / barrel_profit)/1000\n",
    "print(\"Unidades mínimas para evitar pérdidas\", well_min_reserve)"
   ]
  },
  {
   "cell_type": "markdown",
   "metadata": {},
   "source": [
    "### Despliegue de resultados"
   ]
  },
  {
   "cell_type": "code",
   "execution_count": 17,
   "metadata": {
    "scrolled": true
   },
   "outputs": [
    {
     "name": "stdout",
     "output_type": "stream",
     "text": [
      "Para la región geo_0:\n",
      " 92.59256778438035 → Tiene un VOLUMEN PROMEDIO MENOR con respecto al mínimo requerido para evitar pérdidas \n",
      "\n",
      "Para la región geo_1:\n",
      " 68.728546895446 → Tiene un VOLUMEN PROMEDIO MENOR con respecto al mínimo requerido para evitar pérdidas \n",
      "\n",
      "Para la región geo_2:\n",
      " 94.96504596800489 → Tiene un VOLUMEN PROMEDIO MENOR con respecto al mínimo requerido para evitar pérdidas\n"
     ]
    }
   ],
   "source": [
    "# Volume function\n",
    "def compare_mean_volume_with_min_reserve(mean_volume):\n",
    "    if mean_volume > well_min_reserve:\n",
    "        return \"Tiene un VOLUMEN PROMEDIO MAYOR con respecto al mínimo requerido para evitar pérdidas\"\n",
    "    else:\n",
    "        return \"Tiene un VOLUMEN PROMEDIO MENOR con respecto al mínimo requerido para evitar pérdidas\"\n",
    "\n",
    "# Function Calls\n",
    "print(\"Para la región geo_0:\\n\", results_geo_0['mean_volume'], \"→\", compare_mean_volume_with_min_reserve(results_geo_0['mean_volume']), \"\\n\")\n",
    "print(\"Para la región geo_1:\\n\", results_geo_1['mean_volume'], \"→\", compare_mean_volume_with_min_reserve(results_geo_1['mean_volume']), \"\\n\")\n",
    "print(\"Para la región geo_2:\\n\", results_geo_2['mean_volume'], \"→\", compare_mean_volume_with_min_reserve(results_geo_2['mean_volume']))"
   ]
  },
  {
   "cell_type": "markdown",
   "metadata": {},
   "source": [
    "### Hallazgos"
   ]
  },
  {
   "cell_type": "markdown",
   "metadata": {},
   "source": [
    "<div style=\"color: #196CC4;\">\n",
    "A continuación se muestran los resultados comparativos entre el volumen promedio de cada región contra el mínimo requerido:<br><br>\n",
    "▶  <b>Es importante mencionar que estos resultados están basados en el conjunto de datos de validación y no en la totalidad de los datos otorgados, por lo que es normal que el volumen promedio será en todo caso para estos resultados, menor al mínimo requerido.</b><br>\n",
    "▶  Ninguna de las regiones parece ser económicamente viable para la extracción de petróleo, ya que el volumen promedio de reservas predicho es insuficiente para cubrir los costos mínimos necesarios para evitar pérdidas.<br>\n",
    "▶  El volumen promedio de reservas predicho para la región geo_2 es más alto en comparación con las otras dos regiones, con 94.97 unidades.\n",
    "</div>"
   ]
  },
  {
   "cell_type": "markdown",
   "metadata": {},
   "source": [
    "-----"
   ]
  },
  {
   "cell_type": "markdown",
   "metadata": {},
   "source": [
    "## Cálculo de ganancias"
   ]
  },
  {
   "cell_type": "markdown",
   "metadata": {},
   "source": [
    "### Procedimiento"
   ]
  },
  {
   "cell_type": "markdown",
   "metadata": {},
   "source": [
    "<div style=\"color: #196CC4;\">\n",
    "A continuación se calculan las ganancias potenciales obtenidas del desarrollo de pozos petrolíferos en las tres regiones:<br>\n",
    "▶ Se define una función (profit) que recibe las predicciones y el precio por barril.<br>\n",
    "▶ Convierte las predicciones en una serie pandas y las ordena de forma descendente.<br>\n",
    "▶ Selecciona los 200 mejores pozos de las predicciones.<br>\n",
    "▶ Obtiene los valores reales de estos pozos para los siguientes pasos.<br>\n",
    "▶ Calcula los ingresos potenciales multiplicando el volumen total de reservas por el precio por barril.<br>\n",
    "▶ Calcula las ganancias restando la inversión inicial (investment_money).<br>\n",
    "</div>"
   ]
  },
  {
   "cell_type": "markdown",
   "metadata": {},
   "source": [
    "### Función de ejecución"
   ]
  },
  {
   "cell_type": "code",
   "execution_count": 18,
   "metadata": {},
   "outputs": [],
   "source": [
    "# Profit function\n",
    "def profit(data_geo, barrel_prices):\n",
    "    # Real values sorted\n",
    "    real_wells = data_geo.sort_values(by=\"predictions\", ascending=False)['real_values'].head(200)\n",
    "\n",
    "    #Profit of real values\n",
    "    \n",
    "    # Volume\n",
    "    total_reserves_volume = real_wells.sum()\n",
    "    # income\n",
    "    income = total_reserves_volume * revenue_per_unit\n",
    "    #profit\n",
    "    profit = income - investment_money\n",
    "    # Return\n",
    "    return profit"
   ]
  },
  {
   "cell_type": "markdown",
   "metadata": {},
   "source": [
    "### Despliegue de resultados"
   ]
  },
  {
   "cell_type": "markdown",
   "metadata": {},
   "source": [
    "<div style=\"color: #196CC4;\">\n",
    "A continuación se calculan las ganancias potenciales obtenidas del desarrollo de pozos petrolíferos en las tres regiones:<br>\n",
    "▶ Se usa la función profit para las ganancias potenciales para cada región (geo_0, geo_1 y geo_2).<br>\n",
    "▶ Se almacenan los resultados en un diccionario.<br>\n",
    "▶ Se determina la región con la mayor ganancia potencial utilizando la función `max()`."
   ]
  },
  {
   "cell_type": "code",
   "execution_count": 19,
   "metadata": {},
   "outputs": [],
   "source": [
    "# Reduced Dataframe\n",
    "df_results_geo_0 = pd.DataFrame({\n",
    "    'predictions': results_geo_0['predictions'],\n",
    "    'real_values': results_geo_0['real_values']  })\n",
    "\n",
    "df_results_geo_1 = pd.DataFrame({\n",
    "    'predictions': results_geo_1['predictions'],\n",
    "    'real_values': results_geo_1['real_values']  })\n",
    "\n",
    "df_results_geo_2 = pd.DataFrame({\n",
    "    'predictions': results_geo_2['predictions'],\n",
    "    'real_values': results_geo_2['real_values']  })\n",
    "\n",
    "# Print\n",
    "#print(df_results_geo_0)\n",
    "#print(df_results_geo_1)\n",
    "#print(df_results_geo_2)"
   ]
  },
  {
   "cell_type": "code",
   "execution_count": 20,
   "metadata": {},
   "outputs": [
    {
     "name": "stdout",
     "output_type": "stream",
     "text": [
      "Ganancias en dólares para geo_0: 33208260.43139851\n",
      "Ganancias en dólares para geo_1: 24150866.966815114\n",
      "Ganancias en dólares para geo_2: 27103499.635998324\n"
     ]
    }
   ],
   "source": [
    "# Profit\n",
    "profit_geo_0 = profit(df_results_geo_0, revenue_per_unit)\n",
    "profit_geo_1 = profit(df_results_geo_1, revenue_per_unit)\n",
    "profit_geo_2 = profit(df_results_geo_2, revenue_per_unit)\n",
    "\n",
    "# Dictionary\n",
    "potential_profits = {\n",
    "    'geo_0': profit_geo_0,\n",
    "    'geo_1': profit_geo_1,\n",
    "    'geo_2': profit_geo_2\n",
    "}\n",
    "\n",
    "# Highest profit \"max\"\n",
    "best_region = max(potential_profits, key=potential_profits.get)\n",
    "\n",
    "# Print\n",
    "print(\"Ganancias en dólares para geo_0:\", profit_geo_0)\n",
    "print(\"Ganancias en dólares para geo_1:\", profit_geo_1)\n",
    "print(\"Ganancias en dólares para geo_2:\", profit_geo_2)\n"
   ]
  },
  {
   "cell_type": "markdown",
   "metadata": {},
   "source": [
    "### Hallazgos"
   ]
  },
  {
   "cell_type": "markdown",
   "metadata": {},
   "source": [
    "<div style=\"color: #196CC4;\">\n",
    "▶ Ganancias en dólares para geo_0 → 33,208,260.43<br>\n",
    "▶ Ganancias en dólares para geo_1 → 24,150,866.97<br>\n",
    "▶ Ganancias en dólares para geo_2 → 27,103,499.64<br>\n",
    "\n",
    "<b>En resumen, la región geo_0 es la más recomendada para el desarrollo de pozos petrolíferos debido a su mayor potencial de ganancias. En segundo lugar en rentabilidad está la región geo_2.</b>\n",
    "\n",
    "</div>"
   ]
  },
  {
   "cell_type": "markdown",
   "metadata": {},
   "source": [
    "-----"
   ]
  },
  {
   "cell_type": "markdown",
   "metadata": {},
   "source": [
    "## Riesgos y ganancias por región"
   ]
  },
  {
   "cell_type": "markdown",
   "metadata": {},
   "source": [
    "### Bootstrapping"
   ]
  },
  {
   "cell_type": "markdown",
   "metadata": {},
   "source": [
    "<div style=\"color: #196CC4;\">\n",
    "▶ El bootstrapping es una técnica de remuestreo que se utiliza para estimar la distribución de una estadística de interés a partir de un conjunto de datos existente. <br>\n",
    "▶ A continuación se aplican tres llamadas a la función `bootstrapping` para cada una de las tres regiones\n",
    "</div>"
   ]
  },
  {
   "cell_type": "code",
   "execution_count": 21,
   "metadata": {},
   "outputs": [],
   "source": [
    "# Random State\n",
    "state = np.random.RandomState(54321)\n",
    "\n",
    "# Bootstrapping function\n",
    "def bootstrapping(df, num_samples=1000, alpha=0.05):\n",
    "    profits = []\n",
    "    \n",
    "    # Loop\n",
    "    for _ in range(num_samples):\n",
    "        \n",
    "        # Sample data with replacement\n",
    "        wells = pd.DataFrame(df).sample(n=500, replace=True, random_state=state)\n",
    "        \n",
    "        # Profit\n",
    "        benefit_sample = profit(wells, revenue_per_unit)\n",
    "        \n",
    "        # Append to the list\n",
    "        profits.append(benefit_sample)\n",
    "    \n",
    "    # Lower and upper bounds (confidence interval) with percentiles\n",
    "    lower_bound = np.percentile(profits, 2.5)  # Percentile 2.5\n",
    "    upper_bound = np.percentile(profits, 97.5)  # Percentile 97.5\n",
    "    \n",
    "    # Convert to Series\n",
    "    profits = pd.Series(profits)\n",
    "    \n",
    "    # Return\n",
    "    return profits, (lower_bound, upper_bound)"
   ]
  },
  {
   "cell_type": "markdown",
   "metadata": {},
   "source": [
    "<div style=\"color: #196CC4;\">\n",
    "▶ A continuación se aplican tres llamadas a la función `bootstrapping` para cada una de las tres regiones. Esta función genera una distribución de beneficios a partir de las muestras de los datos.\n",
    "</div>"
   ]
  },
  {
   "cell_type": "code",
   "execution_count": 22,
   "metadata": {},
   "outputs": [
    {
     "name": "stdout",
     "output_type": "stream",
     "text": [
      "Boostrapping para la región 0: 3920829.088547083\n",
      "Boostrapping para la región 1: 4604869.8247138085\n",
      "Boostrapping para la región 2: 3964626.5656833537\n"
     ]
    }
   ],
   "source": [
    "# Profit per region\n",
    "bootstrapping_geo_0= bootstrapping(df_results_geo_0)\n",
    "bootstrapping_geo_1 = bootstrapping(df_results_geo_1)\n",
    "bootstrapping_geo_2 = bootstrapping(df_results_geo_2)\n",
    "\n",
    "# Print\n",
    "print(\"Boostrapping para la región 0:\", bootstrapping_geo_0[0].mean())\n",
    "print(\"Boostrapping para la región 1:\", bootstrapping_geo_1[0].mean())\n",
    "print(\"Boostrapping para la región 2:\", bootstrapping_geo_2[0].mean())"
   ]
  },
  {
   "cell_type": "markdown",
   "metadata": {},
   "source": [
    "### Estadísticas clave"
   ]
  },
  {
   "cell_type": "markdown",
   "metadata": {},
   "source": [
    "<div style=\"color: #196CC4;\">\n",
    "Ahora se crea una nueva función donde se calculan 3 estadísticas clave:<br><br>\n",
    "▶ <b>Beneficio Promedio:</b> Se calcula el promedio de la distribución de beneficios.<br>\n",
    "▶ <b>Intervalo de Confianza al 95%:</b> Se calcula el intervalo de confianza al 95% utilizando la distribución t de Student.<br>\n",
    "▶ <b>Porcentaje de Riesgo de Pérdida:</b> Se calcula el porcentaje de muestras en la distribución de beneficios que son menores que cero, lo que representa el riesgo de pérdida. Este valor se expresa como un porcentaje."
   ]
  },
  {
   "cell_type": "code",
   "execution_count": 23,
   "metadata": {},
   "outputs": [],
   "source": [
    "# mean, 95% confidence interval, risk of loss\n",
    "\n",
    "def statistics(profit_distribution):\n",
    "    # Mean profit\n",
    "    mean_profit = np.mean(profit_distribution)\n",
    "\n",
    "    # risk_of_loss\n",
    "    risk_of_loss = np.mean([p < 0 for p in profit_distribution]) * 100\n",
    "    \n",
    "    # Return\n",
    "    return mean_profit, risk_of_loss"
   ]
  },
  {
   "cell_type": "markdown",
   "metadata": {},
   "source": [
    "### Despliegue de resultados"
   ]
  },
  {
   "cell_type": "markdown",
   "metadata": {},
   "source": [
    "<div style=\"color: #196CC4;\">\n",
    "▶ Finalmente se aplican las funciones `statistics` a cada una de las distribuciones de beneficios generadas para las tres regiones y se imprimen los resultados\n",
    "</div>"
   ]
  },
  {
   "cell_type": "code",
   "execution_count": 24,
   "metadata": {},
   "outputs": [],
   "source": [
    "# Confidence Interval\n",
    "confidence_interval_geo_0 = bootstrapping_geo_0[1]\n",
    "confidence_interval_geo_1 = bootstrapping_geo_1[1]\n",
    "confidence_interval_geo_2 = bootstrapping_geo_2[1]\n",
    "\n",
    "# Statistics\n",
    "mean_profit_geo_0, loss_risk_geo_0 = statistics(bootstrapping_geo_0[0])\n",
    "mean_profit_geo_1, loss_risk_geo_1 = statistics(bootstrapping_geo_1[0])\n",
    "mean_profit_geo_2, loss_risk_geo_2 = statistics(bootstrapping_geo_2[0])"
   ]
  },
  {
   "cell_type": "code",
   "execution_count": 25,
   "metadata": {
    "scrolled": true
   },
   "outputs": [
    {
     "name": "stdout",
     "output_type": "stream",
     "text": [
      "Región geo_0:\n",
      "- Beneficio promedio: 3920829.088547083\n",
      "- 95% Intervalo de confianza: (-1108640.0281520828, 9033598.336663691)\n",
      "- % Riesgo de pérdida: 6.4\n",
      "\n",
      "Región geo_1:\n",
      "- Beneficio promedio: 4604869.8247138085\n",
      "- 95% Intervalo de confianza: (866343.877264005, 8722384.953529775)\n",
      "- % Riesgo de pérdida: 1.3\n",
      "\n",
      "Región geo_2:\n",
      "- Beneficio promedio: 3964626.5656833537\n",
      "- 95% Intervalo de confianza: (-1052362.8029479317, 9178751.558821613)\n",
      "- % Riesgo de pérdida: 6.3\n",
      "\n"
     ]
    }
   ],
   "source": [
    "# Print\n",
    "print(\"Región geo_0:\")\n",
    "print(\"- Beneficio promedio:\", mean_profit_geo_0)\n",
    "print(\"- 95% Intervalo de confianza:\", confidence_interval_geo_0)\n",
    "print(\"- % Riesgo de pérdida:\", loss_risk_geo_0)\n",
    "print()\n",
    "print(\"Región geo_1:\")\n",
    "print(\"- Beneficio promedio:\", mean_profit_geo_1)\n",
    "print(\"- 95% Intervalo de confianza:\", confidence_interval_geo_1)\n",
    "print(\"- % Riesgo de pérdida:\", loss_risk_geo_1)\n",
    "print()\n",
    "print(\"Región geo_2:\")\n",
    "print(\"- Beneficio promedio:\", mean_profit_geo_2)\n",
    "print(\"- 95% Intervalo de confianza:\", confidence_interval_geo_2)\n",
    "print(\"- % Riesgo de pérdida:\", loss_risk_geo_2)\n",
    "print()"
   ]
  },
  {
   "cell_type": "markdown",
   "metadata": {},
   "source": [
    "-----"
   ]
  },
  {
   "cell_type": "markdown",
   "metadata": {},
   "source": [
    "## Conclusiones"
   ]
  },
  {
   "cell_type": "markdown",
   "metadata": {},
   "source": [
    "### Estadísticas proporcionadas"
   ]
  },
  {
   "cell_type": "markdown",
   "metadata": {},
   "source": [
    "<div style=\"color: #196CC4;\">\n",
    "<b>Región geo_0:</b><br>\n",
    "▶ Beneficio Promedio: 3,920,829.09<br>\n",
    "▶ Intervalo de Confianza al 95%: (-1108640.0281520828, 9033598.336663691)<br>\n",
    "▶ Riesgo de Pérdida: 6.4%<br><br>\n",
    "<b>Región geo_1:</b><br>\n",
    "▶ Beneficio Promedio: 4,604,869.82<br>\n",
    "▶ Intervalo de Confianza al 95%: (866343.877264005, 8722384.953529775)<br>\n",
    "▶ Riesgo de Pérdida: 1.3%<br><br>\n",
    "<b>Región geo_2:</b><br>\n",
    "▶ Beneficio Promedio: 3,964,626.57<br>\n",
    "▶ Intervalo de Confianza al 95%: (-1052362.8029479317, 9178751.558821613)<br>\n",
    "▶ Riesgo de Pérdida: 6.3%<br>\n",
    "</div>"
   ]
  },
  {
   "cell_type": "markdown",
   "metadata": {},
   "source": [
    "### Mejor región para el desarrollo de pozos"
   ]
  },
  {
   "cell_type": "markdown",
   "metadata": {},
   "source": [
    "<div style=\"color: #196CC4;\">\n",
    "▶ Basándonos en las estadísticas resultantes, podemos observar que <b>la región geo_1 es la mejor opción para el desarrollo de pozos petrolíferos</b>. Tiene el mayor beneficio promedio de 4,604,869.82, junto con un intervalo de confianza al 95% que va desde 866,343.88 hasta 8,722,384.95. Esto significa que hay una alta confianza (95%) en que el beneficio promedio real se encuentra dentro de este rango. Además, presenta el riesgo de pérdida más bajo, con solo un 1.3%. Esto sugiere que es poco probable que haya pérdidas significativas en las inversiones en esta región.\n",
    "</div>"
   ]
  }
 ],
 "metadata": {
  "kernelspec": {
   "display_name": "Python 3 (ipykernel)",
   "language": "python",
   "name": "python3"
  },
  "language_info": {
   "codemirror_mode": {
    "name": "ipython",
    "version": 3
   },
   "file_extension": ".py",
   "mimetype": "text/x-python",
   "name": "python",
   "nbconvert_exporter": "python",
   "pygments_lexer": "ipython3",
   "version": "3.12.5"
  },
  "toc": {
   "base_numbering": 1,
   "nav_menu": {},
   "number_sections": true,
   "sideBar": true,
   "skip_h1_title": true,
   "title_cell": "Table of Contents",
   "title_sidebar": "Contents",
   "toc_cell": false,
   "toc_position": {
    "height": "calc(100% - 180px)",
    "left": "10px",
    "top": "150px",
    "width": "229.325px"
   },
   "toc_section_display": true,
   "toc_window_display": true
  }
 },
 "nbformat": 4,
 "nbformat_minor": 2
}
